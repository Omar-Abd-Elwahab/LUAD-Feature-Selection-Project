{
 "cells": [
  {
   "cell_type": "code",
   "execution_count": 1,
   "id": "de435178",
   "metadata": {},
   "outputs": [],
   "source": [
    "# Importing Required Libraries\n",
    "import numpy as np\n",
    "import pandas as pd\n",
    "import matplotlib.pyplot as plt\n",
    "import warnings\n",
    "warnings.filterwarnings('ignore')\n",
    "%matplotlib inline\n",
    "from textwrap import wrap\n",
    "import time\n",
    "from sklearn.svm import LinearSVC\n",
    "from sklearn import svm\n",
    "from glob import glob\n",
    "import PIL\n",
    "import re\n",
    "import random\n",
    "\n",
    "\n",
    "# for data preparation and others\n",
    "from sklearn.preprocessing import StandardScaler\n",
    "from sklearn.model_selection import train_test_split\n",
    "from sklearn.metrics import classification_report, confusion_matrix, accuracy_score\n",
    "from sklearn.metrics import precision_recall_fscore_support\n",
    "from sklearn.calibration import CalibratedClassifierCV\n",
    "from sklearn.metrics import roc_curve\n",
    "from sklearn.metrics import roc_auc_score\n",
    "from sklearn.metrics import auc\n",
    "from sklearn.metrics import RocCurveDisplay\n",
    "from sklearn.model_selection import StratifiedKFold\n",
    "from sklearn.metrics import balanced_accuracy_score\n",
    "\n",
    "# models tried\n",
    "from sklearn.feature_selection import mutual_info_classif\n",
    "from sklearn.feature_selection import RFE\n",
    "from sklearn.svm import SVC\n",
    "from sklearn.ensemble import RandomForestClassifier\n"
   ]
  },
  {
   "cell_type": "code",
   "execution_count": 2,
   "id": "f1ac8efb",
   "metadata": {},
   "outputs": [
    {
     "name": "stdout",
     "output_type": "stream",
     "text": [
      "60488\n"
     ]
    }
   ],
   "source": [
    "#Data Preprocessing\n",
    "\n",
    "df = pd.read_csv(\"df_new.csv\", delimiter=\",\", header = None)\n",
    "X = df.iloc[1:]\n",
    "X = np.asarray(X.values)\n",
    "X = np.delete(X, 0, 1)\n",
    "X = np.transpose(X)\n",
    "\n",
    "y = df.iloc[0]\n",
    "y = y[1:]\n",
    "y = np.asarray(y)\n",
    "y = np.transpose(y)\n",
    "\n",
    "features_names = df.iloc[1:]\n",
    "features_names = features_names.iloc[:,0]\n",
    "features_names = np.asarray(features_names)\n",
    "target_names = df.iloc[0]\n",
    "target_names = target_names[1:]\n",
    "target_names = np.asarray(target_names)\n",
    "target_names = np.transpose(target_names)\n",
    "\n",
    "\n",
    "indx = []\n",
    "for i in range(len(features_names)):\n",
    "  indx.append(i)\n",
    "print(len(features_names))"
   ]
  },
  {
   "cell_type": "code",
   "execution_count": 3,
   "id": "7556a311",
   "metadata": {},
   "outputs": [
    {
     "data": {
      "text/plain": [
       "549"
      ]
     },
     "execution_count": 3,
     "metadata": {},
     "output_type": "execute_result"
    }
   ],
   "source": [
    "y.size"
   ]
  },
  {
   "cell_type": "code",
   "execution_count": 4,
   "id": "fc3c43f6",
   "metadata": {},
   "outputs": [],
   "source": [
    "#y_sh1 = np.zeros(54, dtype=str)\n",
    "#y_sh2 = np.ones(495, dtype=str)"
   ]
  },
  {
   "cell_type": "code",
   "execution_count": 5,
   "id": "98ff38ca",
   "metadata": {},
   "outputs": [],
   "source": [
    "#y_sh = np.concatenate((y_sh1, y_sh2), axis=None)"
   ]
  },
  {
   "cell_type": "code",
   "execution_count": 6,
   "id": "8e982ade",
   "metadata": {
    "scrolled": false
   },
   "outputs": [],
   "source": [
    "#for i in range(0, y_sh.size):\n",
    "    #if (y_sh[i] == ''):\n",
    "        #y_sh[i] = \"Primary Tumor\"\n",
    "    #if (y_sh[i] == '1'):\n",
    "        #y_sh[i] = \"Solid Tissue Normal\"\n",
    "       "
   ]
  },
  {
   "cell_type": "code",
   "execution_count": null,
   "id": "2716a8f7",
   "metadata": {},
   "outputs": [],
   "source": []
  },
  {
   "cell_type": "code",
   "execution_count": null,
   "id": "519c0322",
   "metadata": {},
   "outputs": [],
   "source": []
  },
  {
   "cell_type": "code",
   "execution_count": null,
   "id": "66d2d364",
   "metadata": {},
   "outputs": [],
   "source": []
  },
  {
   "cell_type": "code",
   "execution_count": null,
   "id": "b0fe7049",
   "metadata": {},
   "outputs": [],
   "source": []
  },
  {
   "cell_type": "code",
   "execution_count": null,
   "id": "f41d95ff",
   "metadata": {},
   "outputs": [],
   "source": []
  },
  {
   "cell_type": "code",
   "execution_count": null,
   "id": "b4812e9a",
   "metadata": {},
   "outputs": [],
   "source": []
  },
  {
   "cell_type": "code",
   "execution_count": 7,
   "id": "4c4e5c13",
   "metadata": {},
   "outputs": [],
   "source": [
    "#splitting the data into train-test\n",
    "X_train, X_test, y_train, y_test = train_test_split(X, y, test_size=0.40, random_state=42, stratify=y)\n",
    "#normalizing or scaling the data\n",
    "sc = StandardScaler()\n",
    "X_train = sc.fit_transform(X_train)\n",
    "X_test = sc.transform(X_test)\n"
   ]
  },
  {
   "cell_type": "code",
   "execution_count": 8,
   "id": "1db16879",
   "metadata": {},
   "outputs": [
    {
     "name": "stdout",
     "output_type": "stream",
     "text": [
      "Time: 95.0857446193695\n"
     ]
    }
   ],
   "source": [
    "#filter technique (Mutual Information [MI])\n",
    "startTime = time.time()\n",
    "mi = mutual_info_classif(X_train, y_train, discrete_features='auto', n_neighbors=3, copy=True, random_state=42)\n",
    "endTime = time.time()\n",
    "print('Time: ' + str(endTime - startTime))\n"
   ]
  },
  {
   "cell_type": "code",
   "execution_count": 9,
   "id": "e5b5f4f6",
   "metadata": {},
   "outputs": [
    {
     "name": "stdout",
     "output_type": "stream",
     "text": [
      "45292\n"
     ]
    }
   ],
   "source": [
    "#oraganizing MI data\n",
    "gains = np.asarray(mi)\n",
    "indexes = np.where(gains != 0)[0]\n",
    "print(len(indexes))\n"
   ]
  },
  {
   "cell_type": "code",
   "execution_count": 10,
   "id": "66792eba",
   "metadata": {},
   "outputs": [
    {
     "name": "stdout",
     "output_type": "stream",
     "text": [
      "Score: 0.9863636363636363\n",
      "Time: 0.4754002094268799\n",
      "[[198   0]\n",
      " [  3  19]]\n",
      "                     precision    recall  f1-score   support\n",
      "\n",
      "      Primary Tumor       0.99      1.00      0.99       198\n",
      "Solid Tissue Normal       1.00      0.86      0.93        22\n",
      "\n",
      "           accuracy                           0.99       220\n",
      "          macro avg       0.99      0.93      0.96       220\n",
      "       weighted avg       0.99      0.99      0.99       220\n",
      "\n",
      "0.9863636363636363\n",
      "(0.9865671641791044, 0.9863636363636363, 0.9859160095360352, None)\n",
      "0.9318181818181819\n"
     ]
    }
   ],
   "source": [
    "#Confusion matrix (19 features of MI) *******\n",
    "#changing the class to discrete numbers for ROC AUC calculation\n",
    "ss = 0\n",
    "pp = 0\n",
    "y_binary = y.copy()\n",
    "\n",
    "for i in range(0, y_binary.size):\n",
    "    if (y_binary[i] == \"Primary Tumor\"):\n",
    "        y_binary[i] = int(0)\n",
    "        pp = pp + 1\n",
    "    if (y_binary[i] == \"Solid Tissue Normal\"):\n",
    "        y_binary[i] = int(1)\n",
    "        ss = ss + 1\n",
    "y_binary=y_binary.astype('int')\n",
    "\n",
    "\n",
    "X_train, X_test, y_train, y_test = train_test_split(X, y, test_size=0.40, random_state=42, stratify=y)\n",
    "sc = StandardScaler()\n",
    "X_train = sc.fit_transform(X_train)\n",
    "X_test = sc.transform(X_test)\n",
    "\n",
    "\n",
    "\n",
    "it = sorted(range(len(gains)), key = lambda sub: gains[sub])[-19:]\n",
    "startTime = time.time()\n",
    "x_train = X_train[:, it]\n",
    "x_test = X_test[:, it]\n",
    "Y_train = y_train[:]\n",
    "Y_test = y_test[:]\n",
    "x_train = x_train.astype('float32')\n",
    "X_test = x_test.astype('float32')\n",
    "\n",
    "clf = LinearSVC(random_state=42)\n",
    "clf.fit(x_train, Y_train)\n",
    "scores = clf.score(x_test, Y_test)\n",
    "endTime = time.time()\n",
    "print('Score: ' + str(scores))\n",
    "print('Time: ' + str(endTime - startTime))\n",
    "y_pred = clf.predict(x_test)\n",
    "\n",
    "\n",
    "print(confusion_matrix(Y_test,y_pred))\n",
    "print(classification_report(Y_test,y_pred))\n",
    "print(accuracy_score(y_test, y_pred))\n",
    "print(precision_recall_fscore_support(y_test, y_pred, average = 'weighted'))\n",
    "\n",
    "print(balanced_accuracy_score(y_test, y_pred))\n",
    "\n",
    "\n"
   ]
  },
  {
   "cell_type": "code",
   "execution_count": 11,
   "id": "57149c95",
   "metadata": {},
   "outputs": [
    {
     "name": "stdout",
     "output_type": "stream",
     "text": [
      "0.9863636363636363\n",
      "[[198   0]\n",
      " [  3  19]]\n",
      "                     precision    recall  f1-score   support\n",
      "\n",
      "      Primary Tumor       0.99      1.00      0.99       198\n",
      "Solid Tissue Normal       1.00      0.86      0.93        22\n",
      "\n",
      "           accuracy                           0.99       220\n",
      "          macro avg       0.99      0.93      0.96       220\n",
      "       weighted avg       0.99      0.99      0.99       220\n",
      "\n",
      "(0.9865671641791044, 0.9863636363636363, 0.9859160095360352, None)\n",
      "the number of important features used:  1261\n",
      "number of similar features:  18\n",
      "time:  1.9994032382965088\n",
      "\n",
      "\n",
      "0.9318181818181819\n"
     ]
    }
   ],
   "source": [
    "#to get the common features between top 19 MI features and the features of the 345 trees in the Random forest\n",
    "X_train, X_test, y_train, y_test = train_test_split(X, y, test_size=0.40, random_state=42, stratify=y)\n",
    "sc = StandardScaler()\n",
    "X_train = sc.fit_transform(X_train)\n",
    "X_test = sc.transform(X_test)\n",
    "ST = time.time()\n",
    "regressor = RandomForestClassifier(n_estimators=345, random_state=42)\n",
    "regressor.fit(X_train, y_train)\n",
    "y_pred = regressor.predict(X_test)\n",
    "sorted_features = sorted (zip(map(lambda x: round(x, 4), regressor.feature_importances_), indx),reverse=True)\n",
    "important_f = []\n",
    "  \n",
    "\n",
    "for s in sorted_features:\n",
    "  if s[0] != 0:\n",
    "    important_f.append(s[1])\n",
    "important_f = np.transpose(important_f)\n",
    "important_f = np.asarray(important_f)\n",
    "\n",
    "#checking the similarities in the first 19 features in MI with features used in RF (n_estimators = 345)\n",
    "it = sorted(range(len(gains)), key = lambda sub: gains[sub])[-19:]\n",
    "similarity = []\n",
    "count = 0\n",
    "for f in important_f:\n",
    "  for t in it:\n",
    "    if (f == t):\n",
    "      count = count + 1\n",
    "      similarity.append(f)\n",
    "\n",
    "print(accuracy_score(y_test, y_pred))\n",
    "print(confusion_matrix(y_test,y_pred))\n",
    "print(classification_report(y_test,y_pred))\n",
    "print(precision_recall_fscore_support(y_test, y_pred, average = 'weighted'))\n",
    "print(\"the number of important features used: \", len(important_f))\n",
    "print (\"number of similar features: \", len(similarity))  \n",
    "\n",
    "ET = time.time()\n",
    "print(\"time: \", ET - ST)\n",
    "print(\"\\n\")\n",
    "print(balanced_accuracy_score(y_test, y_pred))"
   ]
  },
  {
   "cell_type": "code",
   "execution_count": 12,
   "id": "8cf868ed",
   "metadata": {},
   "outputs": [
    {
     "name": "stdout",
     "output_type": "stream",
     "text": [
      "(329, 60488)\n",
      "(329,)\n",
      "(220, 60488)\n",
      "(220,)\n",
      "Time: 3.228322744369507\n",
      "0.9772727272727273\n",
      "0.9772727272727273\n",
      "[[195   3]\n",
      " [  2  20]]\n",
      "                     precision    recall  f1-score   support\n",
      "\n",
      "      Primary Tumor       0.99      0.98      0.99       198\n",
      "Solid Tissue Normal       0.87      0.91      0.89        22\n",
      "\n",
      "           accuracy                           0.98       220\n",
      "          macro avg       0.93      0.95      0.94       220\n",
      "       weighted avg       0.98      0.98      0.98       220\n",
      "\n",
      "(0.9778194659015669, 0.9772727272727273, 0.9774964838255977, None)\n",
      "76\n",
      "0.946969696969697\n"
     ]
    }
   ],
   "source": [
    "#The wrapper method (recursive feature elimination RFE) 76 features only\n",
    "X_train, X_test, y_train, y_test = train_test_split(X, y, test_size=0.40, random_state=42, stratify=y)\n",
    "sc = StandardScaler()\n",
    "X_train = sc.fit_transform(X_train)\n",
    "X_test = sc.transform(X_test)\n",
    "\n",
    "print(X_train.shape)\n",
    "print(y_train.shape)\n",
    "print(X_test.shape)\n",
    "print(y_test.shape)\n",
    "\n",
    "startTime = time.time()\n",
    "estimator = LinearSVC(random_state=42)\n",
    "selector = RFE(estimator, n_features_to_select= 76, step=0.5)\n",
    "selector = selector.fit(X_train, y_train)\n",
    "endTime = time.time()\n",
    "print('Time: ' + str(endTime - startTime))\n",
    "# testing the model\n",
    "y_pred = selector.predict(X_test)\n",
    "print(accuracy_score(y_test,y_pred))\n",
    "print(selector.score(X_test, y_test))\n",
    "print(confusion_matrix(y_test,y_pred))\n",
    "print(classification_report(y_test,y_pred))\n",
    "print(precision_recall_fscore_support(y_test, y_pred, average = 'weighted'))\n",
    "\n",
    "print(np.count_nonzero(selector.support_ == 1))\n",
    "print(balanced_accuracy_score(y_test, y_pred))"
   ]
  },
  {
   "cell_type": "code",
   "execution_count": 13,
   "id": "d2c78bf6",
   "metadata": {},
   "outputs": [],
   "source": [
    "#Create a list with indices of RFE Features\n",
    "RFE_features = np.where(selector.support_ == 1)\n",
    "RFE_features = np.asarray(RFE_features)\n",
    "rfe_f = []\n",
    "for i in RFE_features:\n",
    "  for s in i:\n",
    "    rfe_f.append(s)\n",
    "rfe_f = np.asarray(rfe_f)"
   ]
  },
  {
   "cell_type": "code",
   "execution_count": 14,
   "id": "e1744470",
   "metadata": {},
   "outputs": [
    {
     "name": "stdout",
     "output_type": "stream",
     "text": [
      "number of similar features between RFE and MI:  12\n",
      "number of similar features between RFE and RF:  50\n",
      "number of similar features between RF and MI:  18\n",
      "number of similar features between RFE, RF and MI:  12\n"
     ]
    }
   ],
   "source": [
    "#Create list with common features among techniques\n",
    "similar_all = []\n",
    "similar_rfe_RF = []\n",
    "similar_rfe_MI = []\n",
    "\n",
    "count = 0\n",
    "for f in it:\n",
    "  for t in rfe_f:\n",
    "    if (f == t):\n",
    "      count = count + 1\n",
    "      similar_rfe_MI.append(f)\n",
    "print(\"number of similar features between RFE and MI: \", count)\n",
    "\n",
    "count = 0\n",
    "for f in important_f:\n",
    "  for t in rfe_f:\n",
    "    if (f == t):\n",
    "      count = count + 1\n",
    "      similar_rfe_RF.append(f)\n",
    "print(\"number of similar features between RFE and RF: \", count)\n",
    "\n",
    "count = 0\n",
    "for f in similarity:\n",
    "  for t in rfe_f:\n",
    "    if (f == t):\n",
    "      count = count + 1\n",
    "      similar_all.append(f)\n",
    "print(\"number of similar features between RF and MI: \", len(similarity))\n",
    "print(\"number of similar features between RFE, RF and MI: \", count)\n"
   ]
  },
  {
   "cell_type": "code",
   "execution_count": 15,
   "id": "24c37788",
   "metadata": {},
   "outputs": [
    {
     "name": "stdout",
     "output_type": "stream",
     "text": [
      "Score: 0.9772727272727273\n",
      "Time: 2.5510051250457764\n",
      "[[197   1]\n",
      " [  4  18]]\n",
      "                     precision    recall  f1-score   support\n",
      "\n",
      "      Primary Tumor       0.98      0.99      0.99       198\n",
      "Solid Tissue Normal       0.95      0.82      0.88        22\n",
      "\n",
      "           accuracy                           0.98       220\n",
      "          macro avg       0.96      0.91      0.93       220\n",
      "       weighted avg       0.98      0.98      0.98       220\n",
      "\n",
      "0.9772727272727273\n",
      "(0.976826394344069, 0.9772727272727273, 0.9765266825600586, None)\n",
      "0.9065656565656566\n"
     ]
    }
   ],
   "source": [
    "#A LinearSVC Model using the similar features between all of them\n",
    "startTime = time.time()\n",
    "X_train, X_test, y_train, y_test = train_test_split(X, y, test_size=0.40, random_state=42, stratify=y)\n",
    "sc = StandardScaler()\n",
    "X_train = sc.fit_transform(X_train[:, similar_all])\n",
    "X_test = sc.transform(X_test[:, similar_all])\n",
    "\n",
    "Y_train = y_train[:]\n",
    "Y_test = y_test[:]\n",
    "X_train = X_train.astype('float32')\n",
    "X_test = X_test.astype('float32')\n",
    "Y_train = Y_train[:]\n",
    "Y_test = Y_test[:]\n",
    "clf = LinearSVC(random_state=42)\n",
    "\n",
    "clf.fit(X_train, Y_train)\n",
    "\n",
    "endTime = time.time()\n",
    "print('Score: ' + str(clf.score(X_test, Y_test)))\n",
    "print('Time: ' + str(endTime - startTime))\n",
    "y_pred = clf.predict(X_test)\n",
    "print(confusion_matrix(y_test,y_pred))\n",
    "print(classification_report(y_test,y_pred))\n",
    "print(accuracy_score(y_test, y_pred))\n",
    "print(precision_recall_fscore_support(y_test, y_pred, average = 'weighted'))\n",
    "print(balanced_accuracy_score(y_test, y_pred))"
   ]
  },
  {
   "cell_type": "code",
   "execution_count": null,
   "id": "00add48f",
   "metadata": {},
   "outputs": [],
   "source": []
  },
  {
   "cell_type": "code",
   "execution_count": null,
   "id": "1cfe9f33",
   "metadata": {},
   "outputs": [],
   "source": []
  },
  {
   "cell_type": "code",
   "execution_count": null,
   "id": "84a906ee",
   "metadata": {},
   "outputs": [],
   "source": []
  },
  {
   "cell_type": "code",
   "execution_count": null,
   "id": "9c04b721",
   "metadata": {},
   "outputs": [],
   "source": []
  },
  {
   "cell_type": "code",
   "execution_count": 16,
   "id": "318e0681",
   "metadata": {},
   "outputs": [],
   "source": [
    "import random\n",
    "import numpy as np\n",
    " \n",
    "\n",
    "# A function to generate a random\n",
    "# permutation of array\n",
    "def shuffler (arr, n):\n",
    "     \n",
    "    # We will Start from the last element\n",
    "    # and swap one by one.\n",
    "    for i in range(n-1,0,-1):\n",
    "         \n",
    "        # Pick a random index from 0 to i\n",
    "        \n",
    "        j = random.randint(0, n-1)\n",
    "         \n",
    "        # Swap arr[i] with the element at random index\n",
    "        arr[i],arr[j] = arr[j],arr[i]\n",
    "    return arr\n",
    "\n"
   ]
  },
  {
   "cell_type": "code",
   "execution_count": null,
   "id": "5a80881b",
   "metadata": {},
   "outputs": [],
   "source": []
  },
  {
   "cell_type": "code",
   "execution_count": 17,
   "id": "352ef600",
   "metadata": {},
   "outputs": [
    {
     "name": "stdout",
     "output_type": "stream",
     "text": [
      "Score: 0.9136363636363637\n",
      "Time: 2.559307813644409\n",
      "[[198   0]\n",
      " [ 19   3]]\n",
      "0.5681818181818181\n"
     ]
    }
   ],
   "source": [
    "#A LinearSVC Model using the similar features between all of them\n",
    "startTime = time.time()\n",
    "X_train, X_test, y_train, y_test = train_test_split(X, y, test_size=0.40, random_state=42, stratify=y)\n",
    "sc = StandardScaler()\n",
    "X_train = sc.fit_transform(X_train[:, similar_all])\n",
    "X_test = sc.transform(X_test[:, similar_all])\n",
    "\n",
    "rrr = shuffler(y_train,len(y_train))\n",
    "\n",
    "Y_train = y_train[:]\n",
    "Y_test = y_test[:]\n",
    "X_train = X_train.astype('float32')\n",
    "X_test = X_test.astype('float32')\n",
    "Y_train = Y_train[:]\n",
    "Y_test = Y_test[:]\n",
    "clf = LinearSVC(random_state=42)\n",
    "clf.fit(X_train, rrr)\n",
    "\n",
    "endTime = time.time()\n",
    "print('Score: ' + str(clf.score(X_test, Y_test)))\n",
    "print('Time: ' + str(endTime - startTime))\n",
    "y_pred = clf.predict(X_test)\n",
    "print(confusion_matrix(y_test,y_pred))\n",
    "\n",
    "\n",
    "print(balanced_accuracy_score(y_test, y_pred))"
   ]
  },
  {
   "cell_type": "code",
   "execution_count": null,
   "id": "694abe6d",
   "metadata": {},
   "outputs": [],
   "source": []
  },
  {
   "cell_type": "code",
   "execution_count": null,
   "id": "eb19dd5f",
   "metadata": {},
   "outputs": [],
   "source": []
  },
  {
   "cell_type": "code",
   "execution_count": 18,
   "id": "80b2d422",
   "metadata": {},
   "outputs": [
    {
     "name": "stdout",
     "output_type": "stream",
     "text": [
      "No Skill: ROC AUC=0.500\n",
      "Model: ROC AUC=0.371\n"
     ]
    },
    {
     "data": {
      "image/png": "[encoded data removed]",
      "text/plain": [
       "<Figure size 432x288 with 1 Axes>"
      ]
     },
     "metadata": {
      "needs_background": "light"
     },
     "output_type": "display_data"
    }
   ],
   "source": [
    "#ROC AUC calculations for the 76 features of RFE Model\n",
    "\n",
    "#changing the class to discrete numbers for ROC AUC calculation\n",
    "ss = 0\n",
    "pp = 0\n",
    "y_test_binary = y_test.copy()\n",
    "y_train_binary = rrr.copy()\n",
    "\n",
    "for i in range(0, y_test_binary.size):\n",
    "    if (y_test_binary[i] == \"Primary Tumor\"):\n",
    "        y_test_binary[i] = int(0)\n",
    "        pp = pp + 1\n",
    "    if (y_test_binary[i] == \"Solid Tissue Normal\"):\n",
    "        y_test_binary[i] = int(1)\n",
    "        ss = ss + 1\n",
    "y_test_binary=y_test_binary.astype('int')\n",
    "\n",
    "for i in range(0, y_train_binary.size):\n",
    "    if (y_train_binary[i] == \"Primary Tumor\"):\n",
    "        y_train_binary[i] = int(0)\n",
    "        pp = pp + 1\n",
    "    if (y_train_binary[i] == \"Solid Tissue Normal\"):\n",
    "        y_train_binary[i] = int(1)\n",
    "        ss = ss + 1\n",
    "y_train_binary=y_train_binary.astype('int')\n",
    "\n",
    "\n",
    "\n",
    "# generate a no skill prediction (majority class)\n",
    "ns_probs = [0 for _ in range(len(y_test_binary))]\n",
    "\n",
    "\n",
    "Y_train_binary = y_train_binary[:]\n",
    "Y_test_binary = y_test_binary[:]\n",
    "\n",
    "# predict probabilities\n",
    "svm = LinearSVC(random_state=42)\n",
    "model3 = RFE(svm, n_features_to_select= 76, step=0.5)\n",
    "model3 = model3.fit(X_train, y_train)\n",
    "lr_probs = model3.decision_function(X_test)\n",
    "\n",
    "# calculate scores\n",
    "ns_auc = roc_auc_score(Y_test_binary, ns_probs)\n",
    "lr_auc = roc_auc_score(Y_test_binary, lr_probs)\n",
    "# summarize scores: prints the ROC AUC for the model and the no skill classifier that only predicts 0 for all samples\n",
    "print('No Skill: ROC AUC=%.3f' % (ns_auc))\n",
    "print('Model: ROC AUC=%.3f' % (lr_auc))\n",
    "# calculate roc curves\n",
    "ns_fpr, ns_tpr, _ = roc_curve(Y_test_binary, ns_probs)\n",
    "lr_fpr, lr_tpr, _ = roc_curve(Y_test_binary, lr_probs)\n",
    "# plot the roc curve for the model\n",
    "plt.plot(ns_fpr, ns_tpr, linestyle='--', label='No Skill')\n",
    "plt.plot(lr_fpr, lr_tpr, marker='.', label='Model Random Labeled')\n",
    "# axis labels\n",
    "plt.xlabel('False Positive Rate')\n",
    "plt.ylabel('True Positive Rate')\n",
    "# show the legend\n",
    "plt.legend()\n",
    "# show the plot\n",
    "plt.show()\n"
   ]
  },
  {
   "cell_type": "code",
   "execution_count": 19,
   "id": "c03febac",
   "metadata": {},
   "outputs": [
    {
     "name": "stdout",
     "output_type": "stream",
     "text": [
      "Balanced Accuracy: 0.5172 (0.0232)\n",
      "Balanced Accuracy: 0.5091 (0.0182)\n",
      "Balanced Accuracy: 0.5273 (0.0364)\n",
      "Balanced Accuracy: 0.5091 (0.0182)\n",
      "Balanced Accuracy: 0.5081 (0.0188)\n",
      "Balanced Accuracy: 0.5081 (0.0188)\n",
      "Balanced Accuracy: 0.5000 (0.0000)\n",
      "Balanced Accuracy: 0.5182 (0.0364)\n",
      "Balanced Accuracy: 0.5080 (0.0211)\n",
      "Balanced Accuracy: 0.5454 (0.0508)\n",
      "Balanced Accuracy: 0.5081 (0.0188)\n",
      "Balanced Accuracy: 0.5000 (0.0000)\n",
      "Balanced Accuracy: 0.5444 (0.0583)\n",
      "Balanced Accuracy: 0.5455 (0.0704)\n",
      "Balanced Accuracy: 0.5373 (0.0343)\n",
      "Balanced Accuracy: 0.5182 (0.0223)\n",
      "Balanced Accuracy: 0.5263 (0.0372)\n",
      "Balanced Accuracy: 0.5364 (0.0445)\n",
      "Balanced Accuracy: 0.5444 (0.0914)\n",
      "Balanced Accuracy: 0.5091 (0.0182)\n",
      "Balanced Accuracy: 0.5182 (0.0223)\n",
      "Balanced Accuracy: 0.5081 (0.0188)\n",
      "Balanced Accuracy: 0.5091 (0.0182)\n",
      "Balanced Accuracy: 0.5081 (0.0188)\n",
      "Balanced Accuracy: 0.5727 (0.0936)\n",
      "Balanced Accuracy: 0.5091 (0.0182)\n",
      "Balanced Accuracy: 0.5000 (0.0000)\n",
      "Balanced Accuracy: 0.5091 (0.0182)\n",
      "Balanced Accuracy: 0.5081 (0.0188)\n",
      "Balanced Accuracy: 0.5364 (0.0530)\n",
      "Balanced Accuracy: 0.5091 (0.0182)\n",
      "Balanced Accuracy: 0.5182 (0.0223)\n",
      "Balanced Accuracy: 0.5545 (0.0530)\n",
      "Balanced Accuracy: 0.5000 (0.0000)\n",
      "Balanced Accuracy: 0.5182 (0.0364)\n",
      "Balanced Accuracy: 0.5364 (0.0530)\n",
      "Balanced Accuracy: 0.5364 (0.0340)\n",
      "Balanced Accuracy: 0.5000 (0.0000)\n",
      "Balanced Accuracy: 0.5000 (0.0000)\n",
      "Balanced Accuracy: 0.5000 (0.0000)\n",
      "Balanced Accuracy: 0.5273 (0.0364)\n",
      "Balanced Accuracy: 0.5636 (0.0680)\n",
      "Balanced Accuracy: 0.5354 (0.0454)\n",
      "Balanced Accuracy: 0.5091 (0.0182)\n",
      "Balanced Accuracy: 0.5000 (0.0000)\n",
      "Balanced Accuracy: 0.5091 (0.0182)\n",
      "Balanced Accuracy: 0.5273 (0.0223)\n",
      "Balanced Accuracy: 0.5273 (0.0364)\n",
      "Balanced Accuracy: 0.5081 (0.0188)\n",
      "Balanced Accuracy: 0.5455 (0.0407)\n",
      "Balanced Accuracy: 0.5273 (0.0545)\n",
      "Balanced Accuracy: 0.5091 (0.0182)\n",
      "Balanced Accuracy: 0.5273 (0.0364)\n",
      "Balanced Accuracy: 0.5000 (0.0000)\n",
      "Balanced Accuracy: 0.5091 (0.0182)\n",
      "Balanced Accuracy: 0.5000 (0.0000)\n",
      "Balanced Accuracy: 0.5273 (0.0545)\n",
      "Balanced Accuracy: 0.5182 (0.0364)\n",
      "Balanced Accuracy: 0.5091 (0.0182)\n",
      "Balanced Accuracy: 0.4990 (0.0020)\n",
      "Balanced Accuracy: 0.5000 (0.0000)\n",
      "Balanced Accuracy: 0.5364 (0.0445)\n",
      "Balanced Accuracy: 0.5172 (0.0369)\n",
      "Balanced Accuracy: 0.5172 (0.0232)\n",
      "Balanced Accuracy: 0.5535 (0.0438)\n",
      "Balanced Accuracy: 0.5081 (0.0162)\n",
      "Balanced Accuracy: 0.5091 (0.0182)\n",
      "Balanced Accuracy: 0.5172 (0.0369)\n",
      "Balanced Accuracy: 0.5182 (0.0364)\n",
      "Balanced Accuracy: 0.5091 (0.0182)\n",
      "Balanced Accuracy: 0.5273 (0.0364)\n",
      "Balanced Accuracy: 0.5282 (0.0369)\n",
      "Balanced Accuracy: 0.5464 (0.0498)\n",
      "Balanced Accuracy: 0.5263 (0.0372)\n",
      "Balanced Accuracy: 0.5182 (0.0223)\n",
      "Balanced Accuracy: 0.5727 (0.0617)\n",
      "Balanced Accuracy: 0.5364 (0.0530)\n",
      "Balanced Accuracy: 0.5455 (0.0498)\n",
      "Balanced Accuracy: 0.5182 (0.0364)\n",
      "Balanced Accuracy: 0.5000 (0.0000)\n",
      "Balanced Accuracy: 0.5000 (0.0000)\n",
      "Balanced Accuracy: 0.5172 (0.0232)\n",
      "Balanced Accuracy: 0.5200 (0.0400)\n",
      "Balanced Accuracy: 0.5273 (0.0364)\n",
      "Balanced Accuracy: 0.5100 (0.0200)\n",
      "Balanced Accuracy: 0.5373 (0.0343)\n",
      "Balanced Accuracy: 0.5182 (0.0364)\n",
      "Balanced Accuracy: 0.5091 (0.0182)\n",
      "Balanced Accuracy: 0.5455 (0.0575)\n",
      "Balanced Accuracy: 0.5273 (0.0545)\n",
      "Balanced Accuracy: 0.5091 (0.0182)\n",
      "Balanced Accuracy: 0.5091 (0.0182)\n",
      "Balanced Accuracy: 0.5273 (0.0545)\n",
      "Balanced Accuracy: 0.5535 (0.0458)\n",
      "Balanced Accuracy: 0.5182 (0.0364)\n",
      "Balanced Accuracy: 0.5382 (0.0370)\n",
      "Balanced Accuracy: 0.5071 (0.0193)\n",
      "Balanced Accuracy: 0.5081 (0.0188)\n",
      "Balanced Accuracy: 0.4990 (0.0020)\n",
      "Balanced Accuracy: 0.5455 (0.0575)\n"
     ]
    }
   ],
   "source": [
    "#A LinearSVC 5-fold-Model using the similar features between all of them using random labels\n",
    "from numpy import mean\n",
    "from numpy import std\n",
    "from sklearn.model_selection import cross_val_score\n",
    "from sklearn.model_selection import StratifiedKFold\n",
    "\n",
    "\n",
    "\n",
    "cv = StratifiedKFold(n_splits=5, shuffle = True, random_state=42)\n",
    "model = LinearSVC(random_state=42)\n",
    "graph_sh = []\n",
    "for kk in range(0,100):\n",
    "\n",
    "    cc = 1\n",
    "    acc_f = []\n",
    "    for i, (train, test) in enumerate(cv.split(X, y)):\n",
    "        X_train = sc.fit_transform(X[train])\n",
    "        X_train = X_train[:, similar_all]\n",
    "        X_test = sc.transform(X[test])\n",
    "        X_test = X_test[:,similar_all]\n",
    "    \n",
    "        \n",
    "        y_train, y_test = y[train], y[test]\n",
    "        \n",
    "        rrr = shuffler(y_train,len(y_train)-1)\n",
    "        # evaluate model\n",
    "        model.fit(X_train, rrr)\n",
    "        # evaluate model\n",
    "        yhat = model.predict(X_test)\n",
    "        acc_f.append(balanced_accuracy_score(y_test, yhat))\n",
    "    print('Balanced Accuracy: %.4f (%.4f)' % (mean(acc_f), std(acc_f)))\n",
    "    graph_sh.append(mean(acc_f))"
   ]
  },
  {
   "cell_type": "code",
   "execution_count": 20,
   "id": "dc312328",
   "metadata": {},
   "outputs": [
    {
     "data": {
      "text/plain": [
       "Text(0, 0.5, 'Balanced Accuracy')"
      ]
     },
     "execution_count": 20,
     "metadata": {},
     "output_type": "execute_result"
    },
    {
     "data": {
      "image/png": "[encoded data removed]",
      "text/plain": [
       "<Figure size 432x288 with 1 Axes>"
      ]
     },
     "metadata": {
      "needs_background": "light"
     },
     "output_type": "display_data"
    }
   ],
   "source": [
    "#Plot a graph with all accuracy scores\n",
    "plt.plot(graph_sh)\n",
    "plt.xlabel('Randomized Attempt Number')\n",
    "plt.ylabel('Balanced Accuracy')"
   ]
  },
  {
   "cell_type": "code",
   "execution_count": 21,
   "id": "b233459c",
   "metadata": {},
   "outputs": [
    {
     "data": {
      "text/plain": [
       "0.5208171717171717"
      ]
     },
     "execution_count": 21,
     "metadata": {},
     "output_type": "execute_result"
    }
   ],
   "source": [
    "mean(graph_sh)"
   ]
  },
  {
   "cell_type": "code",
   "execution_count": null,
   "id": "d522753b",
   "metadata": {},
   "outputs": [],
   "source": []
  },
  {
   "cell_type": "code",
   "execution_count": null,
   "id": "538a978c",
   "metadata": {},
   "outputs": [],
   "source": []
  },
  {
   "cell_type": "code",
   "execution_count": null,
   "id": "51c6ff7b",
   "metadata": {},
   "outputs": [],
   "source": []
  },
  {
   "cell_type": "code",
   "execution_count": null,
   "id": "03048818",
   "metadata": {},
   "outputs": [],
   "source": []
  },
  {
   "cell_type": "code",
   "execution_count": 60,
   "id": "0682eff7",
   "metadata": {},
   "outputs": [
    {
     "data": {
      "image/png": "[encoded data removed]",
      "text/plain": [
       "<Figure size 720x504 with 1 Axes>"
      ]
     },
     "metadata": {
      "needs_background": "light"
     },
     "output_type": "display_data"
    },
    {
     "name": "stdout",
     "output_type": "stream",
     "text": [
      "Balanced Accuracy: 0.4990 (0.0020)\n"
     ]
    }
   ],
   "source": [
    "#############################################################################\n",
    "# Classification and ROC analysis for MI-SVM model\n",
    "\n",
    "\n",
    "\n",
    "\n",
    "# Run classifier with cross-validation and plot ROC curves\n",
    "cv = StratifiedKFold(n_splits=5, shuffle = True, random_state=42)\n",
    "classifier = LinearSVC(random_state=42)\n",
    "\n",
    "tprs = []\n",
    "aucs = []\n",
    "acc = []\n",
    "mean_fpr = np.linspace(0, 1, 100)\n",
    "\n",
    "fig, ax = plt.subplots(figsize = (10,7))\n",
    "for i, (train, test) in enumerate(cv.split(X, y)):\n",
    "    X_train = sc.fit_transform(X[train])\n",
    "    X_train = X_train[:, similar_all]\n",
    "    X_test = sc.transform(X[test])\n",
    "    X_test = X_test[:,similar_all]\n",
    "    \n",
    "    y_train, y_test = y[train], y[test]\n",
    "    \n",
    "    rrr = shuffler(y_train,len(y_train)-1)\n",
    "    \n",
    "    classifier.fit(X_train, rrr)\n",
    "    yhat = model.predict(X_test)\n",
    "    acc.append(balanced_accuracy_score(y_test, yhat))\n",
    "    viz = RocCurveDisplay.from_estimator(\n",
    "        classifier,\n",
    "        X_test,\n",
    "        y_test,\n",
    "        name=\"ROC fold {}\".format(i),\n",
    "        alpha=0.3,\n",
    "        lw=1,\n",
    "        ax=ax,\n",
    "    )\n",
    "    interp_tpr = np.interp(mean_fpr, viz.fpr, viz.tpr)\n",
    "    interp_tpr[0] = 0.0\n",
    "    tprs.append(interp_tpr)\n",
    "    aucs.append(viz.roc_auc)\n",
    "\n",
    "ax.plot([0, 1], [0, 1], linestyle=\"--\", lw=2, color=\"r\", label=\"Chance\", alpha=0.8)\n",
    "\n",
    "mean_tpr = np.mean(tprs, axis=0)\n",
    "mean_tpr[-1] = 1.0\n",
    "mean_auc = auc(mean_fpr, mean_tpr)\n",
    "std_auc = np.std(aucs)\n",
    "ax.plot(\n",
    "    mean_fpr,\n",
    "    mean_tpr,\n",
    "    color=\"b\",\n",
    "    label=r\"Mean ROC (AUC = %0.4f $\\pm$ %0.4f)\" % (mean_auc, std_auc),\n",
    "    lw=2,\n",
    "    alpha=0.8,\n",
    ")\n",
    "\n",
    "std_tpr = np.std(tprs, axis=0)\n",
    "tprs_upper = np.minimum(mean_tpr + std_tpr, 1)\n",
    "tprs_lower = np.maximum(mean_tpr - std_tpr, 0)\n",
    "ax.fill_between(\n",
    "    mean_fpr,\n",
    "    tprs_lower,\n",
    "    tprs_upper,\n",
    "    color=\"grey\",\n",
    "    alpha=0.2,\n",
    "    label=r\"$\\pm$ 1 std. dev.\",\n",
    ")\n",
    "\n",
    "ax.set(\n",
    "    xlim=[-0.05, 1.05],\n",
    "    ylim=[-0.05, 1.05],\n",
    "    title=\"Random labeled model\",\n",
    ")\n",
    "ax.legend(loc=\"lower right\")\n",
    "plt.show()\n",
    "\n",
    "\n",
    "print('Balanced Accuracy: %.4f (%.4f)' % (mean(acc), std(acc)))\n"
   ]
  },
  {
   "cell_type": "code",
   "execution_count": null,
   "id": "3618d9f0",
   "metadata": {},
   "outputs": [],
   "source": []
  }
 ],
 "metadata": {
  "kernelspec": {
   "display_name": "Python 3 (ipykernel)",
   "language": "python",
   "name": "python3"
  },
  "language_info": {
   "codemirror_mode": {
    "name": "ipython",
    "version": 3
   },
   "file_extension": ".py",
   "mimetype": "text/x-python",
   "name": "python",
   "nbconvert_exporter": "python",
   "pygments_lexer": "ipython3",
   "version": "3.8.5"
  }
 },
 "nbformat": 4,
 "nbformat_minor": 5
}
