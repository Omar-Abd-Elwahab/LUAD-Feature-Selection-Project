{
 "cells": [
  {
   "cell_type": "code",
   "execution_count": 1,
   "metadata": {},
   "outputs": [],
   "source": [
    "import mygene\n",
    "import pandas as pd\n",
    "import numpy as np\n",
    "import re\n"
   ]
  },
  {
   "cell_type": "code",
   "execution_count": 2,
   "metadata": {},
   "outputs": [],
   "source": [
    "mg = mygene.MyGeneInfo()"
   ]
  },
  {
   "cell_type": "code",
   "execution_count": 3,
   "metadata": {},
   "outputs": [
    {
     "name": "stdout",
     "output_type": "stream",
     "text": [
      "querying 1-1000...done.\n",
      "querying 1001-1261...done.\n",
      "Finished.\n",
      "23 input query terms found no hit:\n",
      "\t['ENSG00000261353', 'ENSG00000237857', 'ENSG00000204566', 'ENSG00000231518', 'ENSG00000281370', 'ENS\n",
      "Pass \"returnall=True\" to return complete lists of duplicate or missing query terms.\n"
     ]
    }
   ],
   "source": [
    "df = pd.read_csv(\"RF_features.csv\", delimiter=\",\", header = None)\n",
    "\n",
    "features_ID = np.asarray(df)\n",
    "features_ID = features_ID[1:]\n",
    "\n",
    "ids_RF = []\n",
    "for i in features_ID:\n",
    "  for x in i:\n",
    "    yy = re.split(\"\\.\", x)\n",
    "    ids_RF.append(yy[0])\n",
    "geneSyms = mg.querymany(ids_RF , scopes='ensembl.gene', fields='symbol', species='human')\n",
    "df_RF = pd.DataFrame(geneSyms)\n",
    "df_RF = df_RF.drop(['_id', '_score'], axis=1)\n",
    "df_RF.to_csv(r'RF_genes.csv', index=False) "
   ]
  },
  {
   "cell_type": "code",
   "execution_count": 4,
   "metadata": {},
   "outputs": [
    {
     "name": "stdout",
     "output_type": "stream",
     "text": [
      "querying 1-19...done.\n",
      "Finished.\n"
     ]
    }
   ],
   "source": [
    "df = pd.read_csv(\"MI_features.csv\", delimiter=\",\", header = None)\n",
    "\n",
    "features_ID = np.asarray(df)\n",
    "features_ID = features_ID[1:]\n",
    "\n",
    "ids_MI = []\n",
    "for i in features_ID:\n",
    "  for x in i:\n",
    "    yy = re.split(\"\\.\", x)\n",
    "    ids_MI.append(yy[0])\n",
    "geneSyms = mg.querymany(ids_MI , scopes='ensembl.gene', fields='symbol', species='human')\n",
    "df_MI = pd.DataFrame(geneSyms)\n",
    "df_MI = df_MI.drop(['_id', '_score'], axis=1)\n",
    "df_MI.to_csv(r'MI_genes.csv', index=False) "
   ]
  },
  {
   "cell_type": "code",
   "execution_count": 5,
   "metadata": {},
   "outputs": [
    {
     "name": "stdout",
     "output_type": "stream",
     "text": [
      "querying 1-76...done.\n",
      "Finished.\n",
      "2 input query terms found no hit:\n",
      "\t['ENSG00000260940', 'ENSG00000263632']\n",
      "Pass \"returnall=True\" to return complete lists of duplicate or missing query terms.\n"
     ]
    }
   ],
   "source": [
    "df = pd.read_csv(\"RFE_features.csv\", delimiter=\",\", header = None)\n",
    "\n",
    "features_ID = np.asarray(df)\n",
    "features_ID = features_ID[1:]\n",
    "\n",
    "ids_RFE = []\n",
    "for i in features_ID:\n",
    "  for x in i:\n",
    "    yy = re.split(\"\\.\", x)\n",
    "    ids_RFE.append(yy[0])\n",
    "geneSyms = mg.querymany(ids_RFE , scopes='ensembl.gene', fields='symbol', species='human')\n",
    "df_RFE = pd.DataFrame(geneSyms)\n",
    "df_RFE = df_RFE.drop(['_id', '_score'], axis=1)\n",
    "df_RFE.to_csv(r'RFE_genes.csv', index=False) "
   ]
  },
  {
   "cell_type": "code",
   "execution_count": 6,
   "metadata": {},
   "outputs": [
    {
     "name": "stdout",
     "output_type": "stream",
     "text": [
      "querying 1-12...done.\n",
      "Finished.\n"
     ]
    }
   ],
   "source": [
    "df = pd.read_csv(\"Similar_All_Features.csv\", delimiter=\",\", header = None)\n",
    "\n",
    "features_ID = np.asarray(df)\n",
    "features_ID = features_ID[1:]\n",
    "\n",
    "ids_sa = []\n",
    "for i in features_ID:\n",
    "  for x in i:\n",
    "    yy = re.split(\"\\.\", x)\n",
    "    ids_sa.append(yy[0])\n",
    "geneSyms = mg.querymany(ids_sa , scopes='ensembl.gene', fields='symbol', species='human')\n",
    "df_sa = pd.DataFrame(geneSyms)\n",
    "df_sa = df_sa.drop(['_id', '_score'], axis=1)\n",
    "df_sa.to_csv(r'similar_all_genes.csv', index=False) "
   ]
  },
  {
   "cell_type": "code",
   "execution_count": 7,
   "metadata": {},
   "outputs": [
    {
     "name": "stdout",
     "output_type": "stream",
     "text": [
      "querying 1-18...done.\n",
      "Finished.\n"
     ]
    }
   ],
   "source": [
    "df = pd.read_csv(\"Similar_MI_RF_Features.csv\", delimiter=\",\", header = None)\n",
    "\n",
    "features_ID = np.asarray(df)\n",
    "features_ID = features_ID[1:]\n",
    "\n",
    "ids_mr = []\n",
    "for i in features_ID:\n",
    "  for x in i:\n",
    "    yy = re.split(\"\\.\", x)\n",
    "    ids_mr.append(yy[0])\n",
    "geneSyms = mg.querymany(ids_mr , scopes='ensembl.gene', fields='symbol', species='human')\n",
    "df_mr = pd.DataFrame(geneSyms)\n",
    "df_mr = df_mr.drop(['_id', '_score'], axis=1)\n",
    "df_mr.to_csv(r'similar_MI_RF_genes.csv', index=False) "
   ]
  },
  {
   "cell_type": "code",
   "execution_count": 8,
   "metadata": {},
   "outputs": [
    {
     "name": "stdout",
     "output_type": "stream",
     "text": [
      "querying 1-12...done.\n",
      "Finished.\n"
     ]
    }
   ],
   "source": [
    "df = pd.read_csv(\"Similar_RFE_MI_Features.csv\", delimiter=\",\", header = None)\n",
    "\n",
    "features_ID = np.asarray(df)\n",
    "features_ID = features_ID[1:]\n",
    "\n",
    "ids_rm = []\n",
    "for i in features_ID:\n",
    "  for x in i:\n",
    "    yy = re.split(\"\\.\", x)\n",
    "    ids_rm.append(yy[0])\n",
    "geneSyms = mg.querymany(ids_rm , scopes='ensembl.gene', fields='symbol', species='human')\n",
    "df_rm = pd.DataFrame(geneSyms)\n",
    "df_rm = df_rm.drop(['_id', '_score'], axis=1)\n",
    "df_rm.to_csv(r'similar_RFE_MI_genes.csv', index=False) "
   ]
  },
  {
   "cell_type": "code",
   "execution_count": 9,
   "metadata": {},
   "outputs": [
    {
     "name": "stdout",
     "output_type": "stream",
     "text": [
      "querying 1-50...done.\n",
      "Finished.\n"
     ]
    }
   ],
   "source": [
    "df = pd.read_csv(\"Similar_RFE_RF_Features.csv\", delimiter=\",\", header = None)\n",
    "\n",
    "features_ID = np.asarray(df)\n",
    "features_ID = features_ID[1:]\n",
    "\n",
    "ids_rr = []\n",
    "for i in features_ID:\n",
    "  for x in i:\n",
    "    yy = re.split(\"\\.\", x)\n",
    "    ids_rr.append(yy[0])\n",
    "geneSyms = mg.querymany(ids_rr , scopes='ensembl.gene', fields='symbol', species='human')\n",
    "df_rr = pd.DataFrame(geneSyms)\n",
    "df_rr = df_rr.drop(['_id', '_score'], axis=1)\n",
    "df_rr.to_csv(r'similar_RFE_RF_genes.csv', index=False) "
   ]
  },
  {
   "cell_type": "code",
   "execution_count": 10,
   "metadata": {},
   "outputs": [
    {
     "name": "stdout",
     "output_type": "stream",
     "text": [
      "querying 1-56...done.\n",
      "Finished.\n"
     ]
    }
   ],
   "source": [
    "df = pd.read_csv(\"common_all.csv\", delimiter=\",\", header = None)\n",
    "\n",
    "features_ID = np.asarray(df)\n",
    "features_ID = features_ID[1:]\n",
    "\n",
    "ids_ca = []\n",
    "for i in features_ID:\n",
    "  for x in i:\n",
    "    yy = re.split(\"\\.\", x)\n",
    "    ids_ca.append(yy[0])\n",
    "geneSyms = mg.querymany(ids_ca , scopes='ensembl.gene', fields='symbol', species='human')\n",
    "df_ca = pd.DataFrame(geneSyms)\n",
    "df_ca = df_ca.drop(['_id', '_score'], axis=1)\n",
    "df_ca.to_csv(r'common_all_genes.csv', index=False) "
   ]
  },
  {
   "cell_type": "code",
   "execution_count": null,
   "metadata": {},
   "outputs": [],
   "source": []
  }
 ],
 "metadata": {
  "kernelspec": {
   "display_name": "Python 3",
   "language": "python",
   "name": "python3"
  },
  "language_info": {
   "codemirror_mode": {
    "name": "ipython",
    "version": 3
   },
   "file_extension": ".py",
   "mimetype": "text/x-python",
   "name": "python",
   "nbconvert_exporter": "python",
   "pygments_lexer": "ipython3",
   "version": "3.8.3"
  }
 },
 "nbformat": 4,
 "nbformat_minor": 4
}
