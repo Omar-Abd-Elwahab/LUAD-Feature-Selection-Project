{
 "cells": [
  {
   "cell_type": "code",
   "execution_count": 1,
   "metadata": {},
   "outputs": [],
   "source": [
    "# Importing Required Libraries\n",
    "import numpy as np\n",
    "import pandas as pd\n",
    "import matplotlib.pyplot as plt\n",
    "import warnings\n",
    "%matplotlib inline\n",
    "from textwrap import wrap\n",
    "import time\n",
    "from sklearn.svm import LinearSVC\n",
    "from sklearn import svm\n",
    "from glob import glob\n",
    "import PIL\n",
    "import re\n",
    "\n",
    "\n",
    "# for data preparation and others\n",
    "from sklearn.preprocessing import StandardScaler\n",
    "from sklearn.model_selection import train_test_split\n",
    "from sklearn.metrics import classification_report, confusion_matrix, accuracy_score\n",
    "\n",
    "# models tried\n",
    "from sklearn.feature_selection import mutual_info_classif\n",
    "from sklearn.feature_selection import RFE\n",
    "from sklearn.svm import SVC\n",
    "from sklearn.ensemble import RandomForestClassifier\n"
   ]
  },
  {
   "cell_type": "code",
   "execution_count": 2,
   "metadata": {
    "scrolled": false
   },
   "outputs": [
    {
     "name": "stderr",
     "output_type": "stream",
     "text": [
      ""
     ]
    },
    {
     "name": "stderr",
     "output_type": "stream",
     "text":
    },
    {
     "name": "stdout",
     "output_type": "stream",
     "text": [
      "60488\n"
     ]
    }
   ],
   "source": [
    "#Data Preprocessing\n",
    "\n",
    "df = pd.read_csv(\"df_new.csv\", delimiter=\",\", header = None)\n",
    "X = df.iloc[1:]\n",
    "X = np.asarray(X.values)\n",
    "X = np.delete(X, 0, 1)\n",
    "X = np.transpose(X)\n",
    "\n",
    "y = df.iloc[0]\n",
    "y = y[1:]\n",
    "y = np.asarray(y)\n",
    "y = np.transpose(y)\n",
    "\n",
    "features_names = df.iloc[1:]\n",
    "features_names = features_names.iloc[:,0]\n",
    "features_names = np.asarray(features_names)\n",
    "target_names = df.iloc[0]\n",
    "target_names = target_names[1:]\n",
    "target_names = np.asarray(target_names)\n",
    "target_names = np.transpose(target_names)\n",
    "\n",
    "indx = []\n",
    "for i in range(len(features_names)):\n",
    "  indx.append(i)\n",
    "print(len(features_names))"
   ]
  },
  {
   "cell_type": "code",
   "execution_count": 3,
   "metadata": {},
   "outputs": [],
   "source": [
    "#splitting the data into train-test\n",
    "X_train, X_test, y_train, y_test = train_test_split(X, y, test_size=0.40, random_state=42, stratify=y)\n"
   ]
  },
  {
   "cell_type": "code",
   "execution_count": 4,
   "metadata": {},
   "outputs": [],
   "source": [
    "#normalizing or scaling the data\n",
    "sc = StandardScaler()\n",
    "X_train = sc.fit_transform(X_train)\n",
    "X_test = sc.transform(X_test)\n"
   ]
  },
  {
   "cell_type": "code",
   "execution_count": 5,
   "metadata": {},
   "outputs": [
    {
     "name": "stdout",
     "output_type": "stream",
     "text": [
      "Time: 299.0910277366638\n"
     ]
    }
   ],
   "source": [
    "#filter technique (Mutual Information [MI])\n",
    "startTime = time.time()\n",
    "mi = mutual_info_classif(X_train, y_train, discrete_features='auto', n_neighbors=3, copy=True, random_state=42)\n",
    "endTime = time.time()\n",
    "print('Time: ' + str(endTime - startTime))\n"
   ]
  },
  {
   "cell_type": "code",
   "execution_count": 6,
   "metadata": {},
   "outputs": [
    {
     "name": "stdout",
     "output_type": "stream",
     "text": [
      "45292\n"
     ]
    }
   ],
   "source": [
    "#oraganizing MI data\n",
    "gains = np.asarray(mi)\n",
    "indexes = np.where(gains != 0)[0]\n",
    "print(len(indexes))\n"
   ]
  },
  {
   "cell_type": "code",
   "execution_count": 7,
   "metadata": {},
   "outputs": [
    {
     "name": "stderr",
     "output_type": "stream",
     "text": [
      "C:\\Users\\MSI\\anaconda3\\lib\\site-packages\\sklearn\\svm\\_base.py:976: ConvergenceWarning: Liblinear failed to converge, increase the number of iterations.\n",
      "  warnings.warn(\"Liblinear failed to converge, increase \"\n",
      "C:\\Users\\MSI\\anaconda3\\lib\\site-packages\\sklearn\\svm\\_base.py:976: ConvergenceWarning: Liblinear failed to converge, increase the number of iterations.\n",
      "  warnings.warn(\"Liblinear failed to converge, increase \"\n",
      "C:\\Users\\MSI\\anaconda3\\lib\\site-packages\\sklearn\\svm\\_base.py:976: ConvergenceWarning: Liblinear failed to converge, increase the number of iterations.\n",
      "  warnings.warn(\"Liblinear failed to converge, increase \"\n",
      "C:\\Users\\MSI\\anaconda3\\lib\\site-packages\\sklearn\\svm\\_base.py:976: ConvergenceWarning: Liblinear failed to converge, increase the number of iterations.\n",
      "  warnings.warn(\"Liblinear failed to converge, increase \"\n",
      "C:\\Users\\MSI\\anaconda3\\lib\\site-packages\\sklearn\\svm\\_base.py:976: ConvergenceWarning: Liblinear failed to converge, increase the number of iterations.\n",
      "  warnings.warn(\"Liblinear failed to converge, increase \"\n",
      "C:\\Users\\MSI\\anaconda3\\lib\\site-packages\\sklearn\\svm\\_base.py:976: ConvergenceWarning: Liblinear failed to converge, increase the number of iterations.\n",
      "  warnings.warn(\"Liblinear failed to converge, increase \"\n",
      "C:\\Users\\MSI\\anaconda3\\lib\\site-packages\\sklearn\\svm\\_base.py:976: ConvergenceWarning: Liblinear failed to converge, increase the number of iterations.\n",
      "  warnings.warn(\"Liblinear failed to converge, increase \"\n",
      "C:\\Users\\MSI\\anaconda3\\lib\\site-packages\\sklearn\\svm\\_base.py:976: ConvergenceWarning: Liblinear failed to converge, increase the number of iterations.\n",
      "  warnings.warn(\"Liblinear failed to converge, increase \"\n",
      "C:\\Users\\MSI\\anaconda3\\lib\\site-packages\\sklearn\\svm\\_base.py:976: ConvergenceWarning: Liblinear failed to converge, increase the number of iterations.\n",
      "  warnings.warn(\"Liblinear failed to converge, increase \"\n",
      "C:\\Users\\MSI\\anaconda3\\lib\\site-packages\\sklearn\\svm\\_base.py:976: ConvergenceWarning: Liblinear failed to converge, increase the number of iterations.\n",
      "  warnings.warn(\"Liblinear failed to converge, increase \"\n",
      "C:\\Users\\MSI\\anaconda3\\lib\\site-packages\\sklearn\\svm\\_base.py:976: ConvergenceWarning: Liblinear failed to converge, increase the number of iterations.\n",
      "  warnings.warn(\"Liblinear failed to converge, increase \"\n",
      "C:\\Users\\MSI\\anaconda3\\lib\\site-packages\\sklearn\\svm\\_base.py:976: ConvergenceWarning: Liblinear failed to converge, increase the number of iterations.\n",
      "  warnings.warn(\"Liblinear failed to converge, increase \"\n",
      "C:\\Users\\MSI\\anaconda3\\lib\\site-packages\\sklearn\\svm\\_base.py:976: ConvergenceWarning: Liblinear failed to converge, increase the number of iterations.\n",
      "  warnings.warn(\"Liblinear failed to converge, increase \"\n",
      "C:\\Users\\MSI\\anaconda3\\lib\\site-packages\\sklearn\\svm\\_base.py:976: ConvergenceWarning: Liblinear failed to converge, increase the number of iterations.\n",
      "  warnings.warn(\"Liblinear failed to converge, increase \"\n",
      "C:\\Users\\MSI\\anaconda3\\lib\\site-packages\\sklearn\\svm\\_base.py:976: ConvergenceWarning: Liblinear failed to converge, increase the number of iterations.\n",
      "  warnings.warn(\"Liblinear failed to converge, increase \"\n",
      "C:\\Users\\MSI\\anaconda3\\lib\\site-packages\\sklearn\\svm\\_base.py:976: ConvergenceWarning: Liblinear failed to converge, increase the number of iterations.\n",
      "  warnings.warn(\"Liblinear failed to converge, increase \"\n",
      "C:\\Users\\MSI\\anaconda3\\lib\\site-packages\\sklearn\\svm\\_base.py:976: ConvergenceWarning: Liblinear failed to converge, increase the number of iterations.\n",
      "  warnings.warn(\"Liblinear failed to converge, increase \"\n"
     ]
    },
    {
     "name": "stdout",
     "output_type": "stream",
     "text": [
      "TotalTime: 155.82460141181946\n"
     ]
    }
   ],
   "source": [
    "#traingin a linearSVC model with different numbers of MI features starting from the top 2 to the top 1000\n",
    "#the highest accuracy corresponds to the best number of features\n",
    "graph_MI = []\n",
    "X_train, X_test, y_train, y_test = train_test_split(X, y, test_size=0.40, random_state=42, stratify=y)\n",
    "sc = StandardScaler()\n",
    "X_train = sc.fit_transform(X_train)\n",
    "X_test = sc.transform(X_test)\n",
    "TotalTime = time.time()\n",
    "for i in range (2,1000):\n",
    "  \n",
    "  it = sorted(range(len(gains)), key = lambda sub: gains[sub])[-i:]\n",
    "  x_train = X_train[:, it]\n",
    "  x_test = X_test[:, it]\n",
    "  Y_train = y_train[:]\n",
    "  Y_test = y_test[:]\n",
    "  x_train = x_train.astype('float32')\n",
    "  x_test = x_test.astype('float32')\n",
    "  clf = LinearSVC(random_state=42)\n",
    "  clf.fit(x_train, Y_train)\n",
    "  scores = clf.score(x_test, Y_test)\n",
    "  endTime = time.time()\n",
    "  y_pred = clf.predict(x_test)\n",
    "  graph_MI.append(scores)\n",
    "EndTime = time.time()\n",
    "print('TotalTime: ' + str(EndTime - TotalTime))"
   ]
  },
  {
   "cell_type": "code",
   "execution_count": 8,
   "metadata": {},
   "outputs": [
    {
     "data": {
      "text/plain": [
       "Text(0, 0.5, 'Accuracy')"
      ]
     },
     "execution_count": 8,
     "metadata": {},
     "output_type": "execute_result"
    },
    {
     "data": {
      "image/png": "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\n",
      "text/plain": [
       "<Figure size 432x288 with 1 Axes>"
      ]
     },
     "metadata": {
      "needs_background": "light"
     },
     "output_type": "display_data"
    }
   ],
   "source": [
    "#Plot a graph with all accuracy scores\n",
    "plt.plot(graph_MI)\n",
    "plt.xlabel('Number of genes')\n",
    "plt.ylabel('Accuracy')\n"
   ]
  },
  {
   "cell_type": "code",
   "execution_count": 9,
   "metadata": {},
   "outputs": [
    {
     "name": "stdout",
     "output_type": "stream",
     "text": [
      "17\n",
      "0.9863636363636363\n",
      "(array([17, 18, 25], dtype=int64),)\n"
     ]
    }
   ],
   "source": [
    "#Display the best number of features\n",
    "graph_MI = np.asarray(graph_MI)\n",
    "print(np.argmax(graph_MI))\n",
    "print(graph_MI[np.argmax(graph_MI)]) \n",
    "print(np.where(graph_MI == graph_MI[np.argmax(graph_MI)]))\n",
    "\n",
    "#Since the counting started from 2 in the for loop, 2 should be added to those numbers\n",
    "#In other words, the least number of features that can generate top accuracy is 19 not 17"
   ]
  },
  {
   "cell_type": "code",
   "execution_count": 10,
   "metadata": {},
   "outputs": [
    {
     "data": {
      "text/plain": [
       "0.9863636363636363"
      ]
     },
     "execution_count": 10,
     "metadata": {},
     "output_type": "execute_result"
    }
   ],
   "source": [
    "graph_MI[17]\n",
    "#the higest accuracy is with 19 features because the list starts from 2"
   ]
  },
  {
   "cell_type": "code",
   "execution_count": 11,
   "metadata": {},
   "outputs": [
    {
     "name": "stdout",
     "output_type": "stream",
     "text": [
      "Score: 0.9863636363636363\n",
      "Time: 0.011965274810791016\n",
      "[[198   0]\n",
      " [  3  19]]\n",
      "                     precision    recall  f1-score   support\n",
      "\n",
      "      Primary Tumor       0.99      1.00      0.99       198\n",
      "Solid Tissue Normal       1.00      0.86      0.93        22\n",
      "\n",
      "           accuracy                           0.99       220\n",
      "          macro avg       0.99      0.93      0.96       220\n",
      "       weighted avg       0.99      0.99      0.99       220\n",
      "\n",
      "0.9863636363636363\n"
     ]
    },
    {
     "name": "stderr",
     "output_type": "stream",
     "text": [
      "C:\\Users\\MSI\\anaconda3\\lib\\site-packages\\sklearn\\svm\\_base.py:976: ConvergenceWarning: Liblinear failed to converge, increase the number of iterations.\n",
      "  warnings.warn(\"Liblinear failed to converge, increase \"\n"
     ]
    }
   ],
   "source": [
    "#Confusion matrix (19 features of MI) *******\n",
    "X_train, X_test, y_train, y_test = train_test_split(X, y, test_size=0.40, random_state=42, stratify=y)\n",
    "sc = StandardScaler()\n",
    "X_train = sc.fit_transform(X_train)\n",
    "X_test = sc.transform(X_test)\n",
    "it = sorted(range(len(gains)), key = lambda sub: gains[sub])[-19:]\n",
    "startTime = time.time()\n",
    "x_train = X_train[:, it]\n",
    "x_test = X_test[:, it]\n",
    "Y_train = y_train[:]\n",
    "Y_test = y_test[:]\n",
    "x_train = x_train.astype('float32')\n",
    "X_test = x_test.astype('float32')\n",
    "Y_train = Y_train[:]\n",
    "Y_test = Y_test[:]\n",
    "clf = LinearSVC(random_state=42)\n",
    "\n",
    "clf.fit(x_train, Y_train)\n",
    "scores = clf.score(x_test, Y_test)\n",
    "endTime = time.time()\n",
    "print('Score: ' + str(scores))\n",
    "print('Time: ' + str(endTime - startTime))\n",
    "y_pred = clf.predict(x_test)\n",
    "print(confusion_matrix(Y_test,y_pred))\n",
    "print(classification_report(Y_test,y_pred))\n",
    "print(accuracy_score(y_test, y_pred))\n",
    "\n",
    "\n"
   ]
  },
  {
   "cell_type": "code",
   "execution_count": 12,
   "metadata": {},
   "outputs": [
    {
     "name": "stdout",
     "output_type": "stream",
     "text": [
      "Score: 0.9272727272727272\n",
      "0.9272727272727272\n",
      "[[182  16]\n",
      " [  0  22]]\n",
      "                     precision    recall  f1-score   support\n",
      "\n",
      "      Primary Tumor       1.00      0.92      0.96       198\n",
      "Solid Tissue Normal       0.58      1.00      0.73        22\n",
      "\n",
      "           accuracy                           0.93       220\n",
      "          macro avg       0.79      0.96      0.85       220\n",
      "       weighted avg       0.96      0.93      0.94       220\n",
      "\n",
      "0.9272727272727272\n",
      "Time: 4.082008600234985\n"
     ]
    }
   ],
   "source": [
    "#trying the LinearSVC model in case of all MI features\n",
    "X_train, X_test, y_train, y_test = train_test_split(X, y, test_size=0.40, random_state=42, stratify=y)\n",
    "sc = StandardScaler()\n",
    "X_train = sc.fit_transform(X_train)\n",
    "X_test = sc.transform(X_test)\n",
    "it = sorted(range(len(indexes)), key = lambda sub: gains[sub])[:]\n",
    "\n",
    "startTime = time.time()\n",
    "\n",
    "x_train = X_train[:, it]\n",
    "x_test = X_test[:, it]\n",
    "Y_train = y_train[:]\n",
    "Y_test = y_test[:]\n",
    "x_train = x_train.astype('float32')\n",
    "x_test = x_test.astype('float32')\n",
    "clf = LinearSVC(random_state=42)\n",
    "clf.fit(x_train, Y_train)\n",
    "scores = clf.score(x_test, Y_test)\n",
    "endTime = time.time()\n",
    "y_pred = clf.predict(x_test)\n",
    "print('Score: ' + str(scores))\n",
    "print(accuracy_score(Y_test, y_pred))\n",
    "print(confusion_matrix(Y_test,y_pred))\n",
    "print(classification_report(Y_test,y_pred))\n",
    "print(accuracy_score(y_test, y_pred))\n",
    "print('Time: ' + str(endTime - startTime))\n"
   ]
  },
  {
   "cell_type": "code",
   "execution_count": 13,
   "metadata": {},
   "outputs": [
    {
     "name": "stdout",
     "output_type": "stream",
     "text": [
      "Total Time:  4131.804650306702\n"
     ]
    }
   ],
   "source": [
    "#Wrapper Technique (Random Forest [RF])\n",
    "#making a for loop to find the best number of estimators (trees) based on accuracy\n",
    "X_train, X_test, y_train, y_test = train_test_split(X, y, test_size=0.40, random_state=42, stratify=y)\n",
    "sc = StandardScaler()\n",
    "X_train = sc.fit_transform(X_train)\n",
    "X_test = sc.transform(X_test)\n",
    "scores = []\n",
    "start_time = time.time()\n",
    "for i in range (1, 1000):\n",
    "  regressor = RandomForestClassifier(n_estimators=i, random_state=42)\n",
    "  regressor.fit(X_train, y_train)\n",
    "  y_pred = regressor.predict(X_test)\n",
    "  sorted_features = sorted (zip(map(lambda x: round(x, 4), regressor.feature_importances_), indx),reverse=True)\n",
    "  important_f = []\n",
    "  \n",
    "\n",
    "  for s in sorted_features:\n",
    "    if s[0] != 0:\n",
    "      important_f.append(s[1])\n",
    "  important_f = np.transpose(important_f)\n",
    "  important_f = np.asarray(important_f)\n",
    "    \n",
    "    \n",
    "  #checking the similarities in the first 19 features in MI with features used in RF (n_estimators = i)\n",
    "  it = sorted(range(len(gains)), key = lambda sub: gains[sub])[-19:]\n",
    "  similarity = []\n",
    "  count = 0\n",
    "  for f in important_f:\n",
    "    for t in it:\n",
    "      if (f == t):\n",
    "        count = count + 1\n",
    "        similarity.append(f)\n",
    "  scores.append(accuracy_score(y_test, y_pred))\n",
    "endTime = time.time()\n",
    "print(\"Total Time: \", str(endTime - start_time))"
   ]
  },
  {
   "cell_type": "code",
   "execution_count": 14,
   "metadata": {},
   "outputs": [
    {
     "data": {
      "text/plain": [
       "Text(0, 0.5, 'Accuracy')"
      ]
     },
     "execution_count": 14,
     "metadata": {},
     "output_type": "execute_result"
    },
    {
     "data": {
      "image/png": "iVBORw0KGgoAAAANSUhEUgAAAY4AAAEGCAYAAABy53LJAAAABHNCSVQICAgIfAhkiAAAAAlwSFlzAAALEgAACxIB0t1+/AAAADh0RVh0U29mdHdhcmUAbWF0cGxvdGxpYiB2ZXJzaW9uMy4yLjIsIGh0dHA6Ly9tYXRwbG90bGliLm9yZy+WH4yJAAAgAElEQVR4nO3df5hdVX3v8fdnZshPiAkhxJBEEjDyQ4QAIRf0VlRUBNQAygO0VmuhSFvwqrW9qPeptn3sgwrX2krhgkCltVBAUUppQSmKWCoJECBgIgkBEggwIJBAgPyY7/1j70n2nDlnztlnzp7Zc87nlWeeOXvtX2udzNnfs9baa21FBGZmZo3qGu0MmJnZ2OLAYWZmuThwmJlZLg4cZmaWiwOHmZnl0jPaGRgJe+yxR8ybN2+0s2FmNqbcc889z0XEjMr0jggc8+bNY9myZaOdDTOzMUXS49XS3VRlZma5OHCYmVkuDhxmZpaLA4eZmeXiwGFmZrk4cJiZWS4OHGZmlktHjOMYrojg73+6hnnTJ3PCwbNGOzuWseLJl7j1oad59LlXmDyuh1e3bmfx/N352JF7V93+6Zde4x//+zE2vPgaW7b3AbDPHpMbPt++e+7KmmdfrrtdX8DmLdv50gkH0N2lAeueevFVVj29iZlTJnD9Pes5+1378IN7n+Sex19g9tSJTJnQw9vmTGWPXcfx7KbX2bq9j8ef38zrW7cn+7/0Gh89fA5H7jO94Xy32oPrX+KG+57kD9+1L9fds47XtmwftbzY0E46bA7zc/yNN8KBowHLHn+Bb9yyCoATDj5hlHNjWRf/dA3/9uCGAWk33v8Ux771jczYbfyg7W+470kuun3NoHRpUNIg2UfX1Nu+f9u5u0/kk++YP2DdCX/7c17YvHXH8jVLn2BzxYV31hsmsOGl12oe//p71vPY+aP3t/ihb98JwA/uW8+LaVkaeQ9t5B229zQHjtHw8uvbRjsLVsPWtNZQaXtf9QeUbauy/RHzpnHd2W+ve65jv3kHq57ZxOypE/nFee8Zctt55/0bwIAA0a8yrTJofPiQvbjr0ecH7XfbnxzN+hde5RNX3F03ryOlP2j826f/J2/d6w2jnBsbKe7jsDGtRnygr8aTLatt3+hDMPu/URf9zbq7S1R7MqfSnzJSaXNmRXDgsDGt1qOPaweO5h+VrDRidBUcObqkqgGuSyr83M3q8pWko/i/28a0WoGgVnyoFWga0d/H3VXwtbunS1XLlQSOYs/drLIGNCuGA4eNaa1oqmpU1wjVOLq7RV+VjEo7az1lU9aAZsVw4LAxLW+AGE5TVdcI9XH0dKlqjamrq7w1jrIGNCuGA4eNabXiQBE1jpHq4+iu2VSVBI8yclNVZ3HgsDGtdh9HvvRG7OzjKDhwDNk5Xuipm1bWfFkxCg0ckj4gaZWk1ZLOq7J+mqQbJD0g6W5JB2XWfVbSQ5JWSLpa0oQ0/SuSnpS0PP05vsgyVBrOhcdab2SbqpKr40jcjlstn+Xu4yhnvqwYhQUOSd3ARcBxwIHA6ZIOrNjsi8DyiDgY+DjwrXTf2cCngUURcRDQDZyW2e+bEbEw/bm5qDJU47hRLu3YOS7V6OMo8e24Jc2WFaTIGsdiYHVEPBoRW4BrgCUV2xwI3AYQESuBeZJmput6gImSeoBJwFMF5rVhjhvlUnMcR/UB5cMcx5H8LnrMQpeq57PcTVUlzZgVosiPwGxgXWZ5fZqWdT9wMoCkxcDewJyIeBK4AHgC2AC8FBG3ZvY7J23eukLStGonl3SWpGWSlvX29ramRLipqmzy1jiG8983UjWOZABgjc7xkl6gy5ovK0aRgaPaX1Llp+F8YJqk5cC5wH3AtjQYLAHmA3sBkyV9LN3nYmBfYCFJULmw2skj4tKIWBQRi2bMmDHswtQqgI2uvAFiWH0c6ael6H6GpMYxOF1SaZuEyloTsmIUOcnhemBuZnkOFc1NEbER+CSAkk/j2vTnWGBtRPSm634AvB34p4h4pn9/SZcBNxVYhkFc4SiXvAGiNTWO5o/RiFqBqcw1jrJ22lsxiqxxLAUWSJovaRxJ5/aN2Q0kTU3XAZwJ3JEGkyeAIyVNSgPKMcCv0n2yD8Q4CVhRYBkGCdc5SqVd56qqlV7WwOEaR2cprMYREdsknQPcQnJX1BUR8ZCks9P1lwAHAFdJ2g48DJyRrvulpOuBe4FtJE1Yl6aH/rqkhSStRo8BnyqqDNW4xlEutfs48qU3YqTmqqp1fHeOW1kU+jyO9FbZmyvSLsm8vgtYUGPfLwNfrpL+uy3Opo1hIzsAsH8cR8E1jhrRweM4rCw8cjwn1zjKJX+NY4Rnx23ifLWuwWWucchXko7i/+6c3MdRLhEx6JneMLbnqqrdx1Heb/ZlzZcVw4EjJ9c4yqUvd+CoPpVHI0Zqrqqh+zjKeYEua03IiuHAkZPjRrn0RTIpYKXaD3Jq/lwjNVdVreCQ9HEUe+5mlTWgWTEcOHLyyPFy6Yuo+m23iNtxR3KuqlrpZZ1W3XGjszhw5OSwUS4R1S/kRdyOq2Y6x5sw1PGz68r0JcY1js7iwJFTiT6rRlKDqHbNGss1jqGOn11Xpr9FB47O4sCRV4k+rJY2VVX5il7kg5xGYq6qWrKnHk4QbLWStqBZQRw4cvLtuOXS11ejqarWtOo10hsx2nNVZfMAw2t2a7WyDky0Yjhw5FSiL3lGUoMYqc7x0R7HUbmuLDUO1zY6jwNHTuX4qFq/vqj+bbfQuapG4EFOjawrSdxw/0YHcuDIqUx3sljt23HH9FxVQxxfpaxxOHB0GgeOnMrxUbV+fblvxx3+g5yKH8dRO62rhJ3jjhudx4Ejp5J8Vi2V9HGM9FxVzR+jEdXKoyrrytI57hpH53HgyMl3VZXLyI7j6P9d9LTqg9OqdcyXpdnUneOdx4Ejr3J8Vi1Vq6mqLHNVNXO6oWocA8dxNHHwFqgMWK5xdB4HjpwcN8ql7HNVNXO+ap3vqlLbGa0+jsrTOm50HgeOnErSOmCp/HNVDWccR/I7T9NMM7WCascXg/tXRitwVJ63rBMvWnEcOHJyH0e51OrjqNX+P7xxHPlrHM1c26sev0qNY7S+xFSe1k1VnceBoxGZT4prHOXSV+Ouqtp9HCM7V1Uz56te4+g/98600tQ4HDc6jgNHA7K1DMeNcqndVFVrAGDz52pmrqpW93GoDDWOQX0cjhydpme0M1B2P/t1L7//D8t2LL/j/P8EYFx3F58/9i2c9c596x7jwfUv8aFv37ljv0nju7nhj97B/D0mF5PpNnXt0nX82fcf4GsfeRuTx/fw+evu5/VtfUyZOPjP+Es/XMGf/+ihQelbtg+e5XDP3SY0dP7+R9T2NBA5xvV0sWVbH5ffuZbv/tfjDR2/X7Xjb6/Sxnb0N27f0fcxkiqbaxt5P6y9OHDUcekda6qmb9nex8oNmxo6xvX3rNvxeu7uE1nT+wrrX9jswJHTyqc37fi92/geXtvaxx+/e19OXfQm7nr0OXq6uvj1s5t445QJPLvp9ZrHecvMXdmlu4uXX9tGd5c49qA3NnT+U4+YS3eXWLJwr7rb3va5o7ng1lXsNXXioHVbt/Xx1Euvsseu4/n1M5s49E3TuPinyd/ZOe9+M0fuM53Pve8t3L7qWe574kUApk8ev2P/r33kbdzz+AtM33X8oGOPlI2vbmXtc69wyNypHDLnDaOWDxsdDhzD0EwzxEGz38Ca3ldKM+p3LOl/vyPSZ413iT89dn8A3jT9TYWff+/pk/mT9+/X0LZzd5/Et047tOFjr9ywkdtX9XLY3lOZPL6HTx+zgBMOnsUxF/4MgP+xz+47tj31iDdx6hHFl9esFvdx1DFUbGjm4t/f3FGWeYbGkv6O5r6ImuM32km276bNi2pjjAPHMDRz8e9vDy7LdBFjSX+gTgJH+3fKZgNju5fVxhYHjjqGur43c+3vTiciGs6T6DpV344aR+0HOLUT1zisrBw4hmE4NQ43VeXXX+OIHU1V7X05HVC89i6qjTEOHHUMNVK8mYv/zj6OprPUsXb0cfTVntywnQyscbR3WW1sceAYhmYu/u7jaF5fRed4m8eNgYGjzctqY4sDRx1D93E0UePodo2jWTs7x2uPGG8nAzrHRy8bZoM4cAzDcGoc7uPIb+c4js64HVeucVhJOXDUMdTlvbk+jq6m9+10MeB23PbvHB9Y42jvstrY4sAxDI1e+7PfHHf2cRSRo/aWvR23M8ZxuMZh5VRo4JD0AUmrJK2WdF6V9dMk3SDpAUl3Szoos+6zkh6StELS1ZImpOm7S/qxpEfS39OKLMNQVY7h3VXlyJFXdgBgx43jaPOy2thSWOCQ1A1cBBwHHAicLunAis2+CCyPiIOBjwPfSvedDXwaWBQRBwHdwGnpPucBt0XEAuC2dHlUNHPt7/HtuE0bMFdVX/t3jmvAp7O9y2pjS5E1jsXA6oh4NCK2ANcASyq2OZDk4k9ErATmSZqZrusBJkrqASYBT6XpS4Dvpq+/C5xYXBGKHMfhyJFXR89V1eZltbGlyMAxG1iXWV6fpmXdD5wMIGkxsDcwJyKeBC4AngA2AC9FxK3pPjMjYgNA+nvPwkpAvUkOPVfVSOqfpqUd56rq/2vI/ll44LiVVZGBo9rfeuXV8nxgmqTlwLnAfcC2tN9iCTAf2AuYLOljuU4unSVpmaRlvb29+XPfgKZmx+3uv6uqxZnpAIPmqmrzWztc47CyKvKjtx6Ym1mew87mJgAiYmNEfDIiFpL0ccwA1gLvBdZGRG9EbAV+ALw93e0ZSbMA0t/PVjt5RFwaEYsiYtGMGTNaWa7sOXLv47uqmtfOc1VVe6a4fDuulVSRgWMpsEDSfEnjSDq3b8xuIGlqug7gTOCOiNhI0kR1pKRJStojjgF+lW53I/CJ9PUngB8VWIaaJD+PY6RFxe247RQ4qnGNw8qqsCcARsQ2SecAt5DcFXVFRDwk6ex0/SXAAcBVkrYDDwNnpOt+Kel64F5gG0kT1qXpoc8HrpV0BkmAOaWoMkDtu3F7uuQ+jhHWeXNV7Xzd5kW1MabQR8dGxM3AzRVpl2Re3wUsqLHvl4EvV0l/nqQGMqq6uzTMGkeLM9QBOm+uqmyNo73LamNLm3cvDl+tmkFPV1eTfRyecqRZnTdX1WjnwKw6B44mdTfZVJXeVOUaRxM6ba4qT3JoZeXAUceQfRxNPP61/2LgPo78dvRx9HVe4PVdVVYmDhxNarbG0f/xd1NVftnO8eiAGkdWBxXVxgAHjjpqXd97utTUWIz+i12nfWNuhZ3jONLbcTvor9dxw8qkgz56rdXVZI2ja0cfhyNHXoPnquqcy2kHFdXGAAeOOmpd3ptuqtrRxzGMTHWovgGd4511i2onldXKz4GjSV0aZlOV26pyGzRXVQddSzuoqDYGOHDUUyM6JFOONNFUlV4BHDfya+e5qurqoKJa+TlwNKlLzY0c77+t0n0c+Q2Yq6qPDqtxdFBhrfQcOOqodXnvarLGISU/HseRX/9bFum/Tmr376Ci2hjgwNGkZvs4+vd1U1V+lQMAO6vGYVYeDhx11AoOUnN3VUHztZVOl72rygMAzUaPA0eThnPxl2scTelv3tsxALCDrqbu47AyceCoI2r0cgynuanLfRxN6bTncWR1Ulmt/Bw4mpRc/Jvdt/lmrk5WOQCws2ocZuXhwFHHUH0cjdYaKrdz53hz+jJNVZ02ANBVDiuTQp8AONb915rneOipjVXXdQk2b9nO5XeuHbRufE8Xe+42nnUvvAow6Bjb+4LL71xLXwSTx/UweXwP43pqx/DNr2+jL+CEg2cxZ9pELr9zLVu393H43tOYPXUiN9z3JAvnTuWYA2YCsOLJl5gyYRfeNH0SAD95+BmO3m8Gu3Q3/j3hkWc28S9L1zFjt/H05NivSC9u3grAC5u3sHnLdmbsOn6UczRyHDasTOoGDkkfBG6OiCaePjG2/fuDTw9K++jhc7j+nvUcte907n3iRf7qpodzHfPNe+7K3tMnsfLpTVz5i8dy7Xvfuhd445QJXLN0XdX1j/718XR1iQ/+3Z0APHb+Cfz8kV7OvGoZ57z7zXz+2P0aPtf7vnlHrryNpBc2bwW2cuxbZ452VlrmlEVzuX1VL/u/cUrV9e/ef88RzpFZbY3UOE4DviXp+8CVEfGrgvNUSrt0i0e+ejwAF5xyCACfOnrfQU1Za597hRMv+gUAHz9qb/7k/cnFevK47h3f3H90zjvY7//8x4D97v/y+6ued8u2Po746k+ApIbz6HOv1Mxjtdav51/eAsC6FzYPUbqh1crbaJgyoYeNr23b8bpdHP+2WTx2/gmD0qulmY22up+8iPiYpCnA6cCVkgK4Erg6IjYVncHRlG1WrtbMM2XCLlXSdr6lE3fp5g0TB28zrsqxqm0HsHV74xW9vgi6C2jUqJW30VK2/Jh1moYaryNiI/B94BpgFnAScK+kcwvM26hr5hKcvdOn1pQYeabKyHPnkO/UMrORUDdwSPqQpBuA/wR2ARZHxHHAIcDnC87fmJO90Lfirp88x3DcMLOR0Egj8SnANyNiQG9pRGyW9PvFZKscmplEL7tLK8YZ5MmDaxxmNhIaCRxfBjb0L0iaCMyMiMci4rbCcjZGdXW1tsaRh8eGmNlIaKSP4zog20O7PU3rKI3GgGywGOlpv13jMLOR0Ejg6ImILf0L6etxxWWpPJq57g/s4xjZwNF5I23MbDQ0Ejh6JX24f0HSEuC54rJUHs3MSDqwj6OFmYHaT5VKucZhZiOhkT6Os4HvSfo2SYvNOuDjheZqDBtQ42hx5AhiyGDmwGFmI6GRAYBrgCMl7Qqo3Qf9DdfAcRytPXZfQPcQx3TnuJmNhIbmbJB0AvBWYEJ/h29E/GWB+Rqzulp8O25WvZHhfsaHmY2ERgYAXgKcCpxL0lR1CrB3wfkas9TiAYBZfcGQ/RzVahz9D6JyTDGzVmmkc/ztEfFx4IWI+AvgKGBusdkau4qscdSrUbiPw8xGQiOB47X092ZJewFbgfnFZamcGh2T0chcVc2qFxgcOMxsJDTSx/GvkqYC3wDuJWksuazQXI1hrZ6rKquvzjgNxw0zGwlD1jgkdQG3RcSLEfF9kr6N/SPizxs5uKQPSFolabWk86qsnybpBkkPSLpb0kFp+n6Slmd+Nkr6TLruK5KezKw7PnepG9RMhaHVc1VlucZhZmUwZI0jIvokXUjSr0FEvA683siBJXUDFwHvA9YDSyXdGBHZR+Z9EVgeESdJ2j/d/piIWAUszBznSeCGzH7fjIgLGsnHcDRzHS6yxlEvP74d18xGQiN9HLdK+ojyN9gvBlZHxKPpNCXXAEsqtjkQuA0gIlYC8yRVPg/0GGBNRDye8/yjosi5qlzjMLMyaCRwfI5kUsPX0yajTZI2NrDfbJJR5v3Wp2lZ9wMnA0haTNIUNqdim9OAqyvSzkmbt66QNK3aySWdJWmZpGW9vb0NZLfaMfLvU+RcVfUCg8dxmNlIqBs4ImK3iOiKiHERMSVdntLAsatdNSuvbOcD0yQtJxknch+wbccBpHHAhxk4G+/FwL4kTVkbgAtr5PvSiFgUEYtmzJjRQHarHWPn60ZDQJFzVTXSVOXgYWZFq3tXlaR3VkuvfLBTFesZON5jDvBUxTE2Ap9MzyNgbfrT7zjg3oh4JrPPjteSLgNuqleGkaRRrHH0Rbifw8wK18jtuH+aeT2BpO/iHuA9dfZbCiyQNJ+kc/s04LezG6S3+W5O+0DOBO5Ig0m/06loppI0KyL6Hyx1ErCigTKMiiLmqhpyfd/g4OIKiJm1WiOTHH4ouyxpLvD1BvbbJukc4BagG7giIh6SdHa6/hLgAOAqSduBh4EzMueZRHJH1qcqDv11SQtJmr0eq7K+NEanxuHAYWbFamiSwwrrgYMa2TAibgZurki7JPP6LmBBjX03A9OrpP9unsyOpq5Gbj3IoV4QiBi8je+0MrNWa6SP4+/Y2andRdIpfX+RmWoXhcxVNcQhgxgUOPoXR/hhhGbWxhqpcSzLvN4GXB0RvygoP+XV1CjyVjdV1V8/uKnKNQ4za61GAsf1wGsRsR2SkdySJqVNSTaE1k+rnr+Pw3dZmVmrNdIKfxswMbM8EfhJMdlpL63vHB96fVS5Hdd9HGbWao0EjgkR8XL/Qvp6UnFZah+tHwAYdR/kVNk05RqHmbVaI4HjFUmH9S9IOhx4tbgstY8i5qqKISJHX9/gGkczfRzuFzGzoTTSx/EZ4DpJ/aO+Z5E8StbqKKKpaqgaRLXO8b4mqhyOG2Y2lEYGAC5Npzzfj+TeopURsbXwnJVMMyGgiM7xofosokWd4+4XMbOh1G2qkvTHwOSIWBERDwK7Svqj4rM29rV+HEf9GkcrBgC6X8TMhtJIH8cfRMSL/QsR8QLwB8VlqX20fq6qGLL/oVVTjgzVj2Jm1kjg6Mo+xCl9It+44rLUPoqYq2qoGkS12XGbqXG4pcrMhtJI5/gtwLWSLiG5GfRs4N8LzVWbKKRzvK/2+ojBneHu4zCzVmskcPxv4CzgD0n6iO8jubPK6ihiHEe9Gof7OMysaI3cVdUn6b+BfUhuw90d+H7RGSubZsZktHocx9btwcqnN9Vc/9l/WU5P987WxyO++hM2v548UPGmBzbwX2ueb+g8HsdhZkOpGTgkvYXk4UunA88D/wIQEe8emayNXX9z6kIeeuolDpn7hprbXPupo/j7n67mvQfMZOHcqUMe7+o/OJJVT29kde/LbO+Dtc+9zHsPmMmtDz/D9MnjmL7rOCaP72Hjq0mQeOI3r7Db+F2YNjnpirp/3YscUucclZ57+XUef/4Vvv7RQ3LtZ2btb6gax0rg58CHImI1gKTPjkiuxrgTD53NiYfOHnKbxfN3Z/H8xQ0d76h9p3PUvoMeTcKZv7VPU/kzMxuOoe6q+gjwNHC7pMskHUNz4+DMzKyN1AwcEXFDRJwK7A/8FPgsMFPSxZLeP0L5MzOzkqk7jiMiXomI70XEB4E5wHLgvMJzZmZmpZTrqdgR8ZuI+H8R8Z6iMlRWfvSqmVkiV+AwMzNz4DAzs1wcOMzMLBcHDjMzy8WBw8zMcnHgaJBvqjIzSzhwmJlZLg4cZmaWiwOHmZnl4sBhZma5OHA0qNUPZTIzG6scOMzMLBcHDjMzy8WBw8zMcik0cEj6gKRVklZLGvQMD0nTJN0g6QFJd0s6KE3fT9LyzM9GSZ9J1+0u6ceSHkl/TyuyDGZmNlBhgUNSN3ARcBxwIHC6pAMrNvsisDwiDgY+DnwLICJWRcTCiFgIHA5sBm5I9zkPuC0iFgC34YdKmZmNqCJrHIuB1RHxaERsAa4BllRscyDJxZ+IWAnMkzSzYptjgDUR8Xi6vAT4bvr6u8CJRWS+ku+pMjNLFBk4ZgPrMsvr07Ss+4GTASQtBvYmeTxt1mnA1ZnlmRGxASD9vWcL82xmZnUUGTiqfUmPiuXzgWmSlgPnAvcB23YcQBoHfBi4LvfJpbMkLZO0rLe3N+/uZmZWQ0+Bx14PzM0szwGeym4QERuBTwIoGWG3Nv3pdxxwb0Q8k0l7RtKsiNggaRbwbLWTR8SlwKUAixYtqgxYZmbWpCJrHEuBBZLmpzWH04AbsxtImpquAzgTuCMNJv1OZ2AzFekxPpG+/gTwo5bn3MzMaiqsxhER2ySdA9wCdANXRMRDks5O118CHABcJWk78DBwRv/+kiYB7wM+VXHo84FrJZ0BPAGcUlQZzMxssCKbqoiIm4GbK9Iuyby+C1hQY9/NwPQq6c+T3Gk1ojxVlZlZwiPHzcwsFwcOMzPLxYHDzMxyceAwM7NcHDjMzCwXB46G+bYqMzNw4DAzs5wcOMzMLBcHDjMzy8WBw8zMcnHgMDOzXBw4GuS5qszMEg4cZmaWiwOHmZnl4sBhZma5OHCYmVkuDhxmZpaLA0eDfFOVmVnCgcPMzHJx4DAzs1wcOMzMLBcHDjMzy8WBw8zMcnHgMDOzXBw4zMwsFweOBnl2XDOzhAOHmZnl4sBhZma5OHCYmVkuDhxmZpaLA4eZmeXiwNEgeX5cMzPAgcPMzHJy4DAzs1wcOMzMLJdCA4ekD0haJWm1pPOqrJ8m6QZJD0i6W9JBmXVTJV0vaaWkX0k6Kk3/iqQnJS1Pf44vsgxmZjZQT1EHltQNXAS8D1gPLJV0Y0Q8nNnsi8DyiDhJ0v7p9sek674F/EdEfFTSOGBSZr9vRsQFReXdzMxqK7LGsRhYHRGPRsQW4BpgScU2BwK3AUTESmCepJmSpgDvBC5P122JiBcLzGtdnqvKzCxRZOCYDazLLK9P07LuB04GkLQY2BuYA+wD9AJXSrpP0nckTc7sd07avHWFpGnVTi7pLEnLJC3r7e1tUZHMzKzIwFHtO3pULJ8PTJO0HDgXuA/YRtKEdhhwcUQcCrwC9PeRXAzsCywENgAXVjt5RFwaEYsiYtGMGTOGWxYzM0sV1sdBUsOYm1meAzyV3SAiNgKfBJAkYG36MwlYHxG/TDe9njRwRMQz/ftLugy4qaD8m5lZFUXWOJYCCyTNTzu3TwNuzG6Q3jk1Ll08E7gjIjZGxNPAOkn7peuOAR5O95mVOcRJwIoCy2BmZhUKq3FExDZJ5wC3AN3AFRHxkKSz0/WXAAcAV0naThIYzsgc4lzge2lgeZS0ZgJ8XdJCkmavx4BPFVUGMzMbrMimKiLiZuDmirRLMq/vAhbU2Hc5sKhK+u+2OJsN8U1VZmYJjxw3M7NcHDjMzCwXBw4zM8vFgcPMzHJx4DAzs1wcOIYwrmfn2zNhXPco5sTMrDwKvR13rDv3PW8mIhjf08VHD59bfwczsw7gwDGEyeN7+MLxB4x2NszMSsVNVWZmlosDh5mZ5eLAYWZmuThwmJlZLg4cZmaWiwOHmZnl4sBhZma5OHCYmVkuiojRzkPhJPUCjze5+x7Acy3MzljgMncGl7kzDKfMe0fEjMrEjggcwyFpWUQMehJhO3OZO4PL3BmKKLObqszMLBcHDjMzy8WBo75LRzsDo8Bl7gwuc2doeZndx2FmZrm4xmFmZrk4cJiZWS4OHEOQ9M54rMoAAAagSURBVAFJqyStlnTeaOenFSTNlXS7pF9JekjS/0rTd5f0Y0mPpL+nZfb5QvoerJJ07OjlfngkdUu6T9JN6XJbl1nSVEnXS1qZ/n8f1QFl/mz6d71C0tWSJrRjmSVdIelZSSsyabnLKelwSQ+m6/5WkhrKQET4p8oP0A2sAfYBxgH3AweOdr5aUK5ZwGHp692AXwMHAl8HzkvTzwO+lr4+MC37eGB++p50j3Y5miz754B/Bm5Kl9u6zMB3gTPT1+OAqe1cZmA2sBaYmC5fC/xeO5YZeCdwGLAik5a7nMDdwFGAgH8Hjmvk/K5x1LYYWB0Rj0bEFuAaYMko52nYImJDRNybvt4E/IrkA7eE5EJD+vvE9PUS4JqIeD0i1gKrSd6bMUXSHOAE4DuZ5LYts6QpJBeXywEiYktEvEgblznVA0yU1ANMAp6iDcscEXcAv6lIzlVOSbOAKRFxVyRR5KrMPkNy4KhtNrAus7w+TWsbkuYBhwK/BGZGxAZIgguwZ7pZu7wPfwP8GdCXSWvnMu8D9AJXps1z35E0mTYuc0Q8CVwAPAFsAF6KiFtp4zJXyFvO2enryvS6HDhqq9bW1zb3LkvaFfg+8JmI2DjUplXSxtT7IOmDwLMRcU+ju1RJG1NlJvnmfRhwcUQcCrxC0nxRy5gvc9qmv4SkOWYvYLKkjw21S5W0MVXmBtUqZ9Pld+CobT0wN7M8h6TaO+ZJ2oUkaHwvIn6QJj+TVl1Jfz+bprfD+/AO4MOSHiNpcnyPpH+ivcu8HlgfEb9Ml68nCSTtXOb3AmsjojcitgI/AN5Oe5c5K28516evK9PrcuCobSmwQNJ8SeOA04AbRzlPw5beNXE58KuI+L+ZVTcCn0hffwL4USb9NEnjJc0HFpB0qI0ZEfGFiJgTEfNI/h//MyI+RnuX+WlgnaT90qRjgIdp4zKTNFEdKWlS+nd+DEkfXjuXOStXOdPmrE2Sjkzfr49n9hnaaN8dUOYf4HiSu47WAF8a7fy0qEz/k6Q6+gCwPP05HpgO3AY8kv7ePbPPl9L3YBUN3nVR1h/gXey8q6qtywwsBJal/9c/BKZ1QJn/AlgJrAD+keROorYrM3A1ST/OVpKawxnNlBNYlL5Xa4Bvk84mUu/HU46YmVkubqoyM7NcHDjMzCwXBw4zM8vFgcPMzHJx4DAzs1wcOKztSQpJF2aWPy/pKy069j9I+mgrjlXnPKekM9zeXpE+T9JvF31+sywHDusErwMnS9pjtDOSJak7x+ZnAH8UEe+uSJ8HVA0c6UR/Zi3nwGGdYBvJc5c/W7missYg6eX097sk/UzStZJ+Lel8Sb8j6e70+QX7Zg7zXkk/T7f7YLp/t6RvSFoq6QFJn8oc93ZJ/ww8WCU/p6fHXyHpa2nan5MM3LxE0jcqdjkf+C1Jy9NnUfyepOsk/Stwq6TJ6bMblqaTHS6pk79Zku5Ij7dC0m81+Z5bG/M3EusUFwEPSPp6jn0OAQ4gmb76UeA7EbFYycOvzgU+k243Dzga2Be4XdKbSaZveCkijpA0HviFpFvT7RcDB0UyxfUOkvYCvgYcDrxAcuE/MSL+UtJ7gM9HxLKKPJ6XpvcHrN8jeb7CwRHxG0l/TTLFyu9LmgrcLeknwO/UyN/JwC0R8dW0RjQpx/tlHcKBwzpCRGyUdBXwaeDVBndbGuk01ZLWAP0X/geBbJPRtRHRBzwi6VFgf+D9wMGZ2swbSOYI2kIyT9CAoJE6AvhpRPSm5/weyTM1fthgfvv9OCL6n9XwfpIJHj+fLk8A3jRE/pYCV6QTYf4wIpbnPLd1AAcO6yR/A9wLXJlJ20baZJtO9DYus+71zOu+zHIfAz87lfP29E9ZfW5E3JJdIeldJFOcV9PYYzvryx5fwEciYlVFPqrmL133TpKHXv2jpG9ExFUtype1CfdxWMdIv4VfS9LR3O8xkqYhSJ7lsEsThz5FUlfa77EPyURytwB/mH5zR9JblDxIaSi/BI6WtEfaTHQ68LM6+2wieQRwLbcA56aBAkmHZtIH5U/S3iTPLrmMZBblw+qc3zqQaxzWaS4EzsksXwb8SNLdJDOK1qoNDGUVyQV+JnB2RLwm6TskfR/3phftXuo8ljMiNkj6AnA7SU3h5oioN831A8A2SfcD/0DSN5L1VyQ1rQfSfDwGfJDkEbrV8vcu4E8lbQVeJumrMRvAs+OamVkubqoyM7NcHDjMzCwXBw4zM8vFgcPMzHJx4DAzs1wcOMzMLBcHDjMzy+X/A7KfiR1Pp/83AAAAAElFTkSuQmCC\n",
      "text/plain": [
       "<Figure size 432x288 with 1 Axes>"
      ]
     },
     "metadata": {
      "needs_background": "light"
     },
     "output_type": "display_data"
    }
   ],
   "source": [
    "#Plot a graph with all accuracy scores\n",
    "plt.plot(scores)\n",
    "plt.xlabel('Number of trees')\n",
    "plt.ylabel('Accuracy')\n"
   ]
  },
  {
   "cell_type": "code",
   "execution_count": 15,
   "metadata": {},
   "outputs": [
    {
     "name": "stdout",
     "output_type": "stream",
     "text": [
      "8\n",
      "0.9863636363636363\n",
      "(array([  8,  10, 344, 345, 346, 347, 348, 350, 351, 352, 354, 356, 357,\n",
      "       358, 384, 385, 386, 388, 389, 390, 392, 393, 394, 396, 397, 398,\n",
      "       399, 400, 401, 402, 403, 404, 405, 406, 407, 408, 409, 410, 411,\n",
      "       412, 413, 414, 415, 416, 417, 418, 419, 420, 421, 422, 423, 424,\n",
      "       425, 426, 427, 428, 429, 430, 431, 432, 436, 437, 438, 439, 440,\n",
      "       441, 442, 443, 444, 445, 446, 447, 448, 449, 450, 451, 452, 453,\n",
      "       454, 455, 456, 457, 458, 459, 460, 461, 462, 463, 464, 465, 466,\n",
      "       467, 468, 470, 492, 498, 500, 506, 507, 508, 510, 512, 513, 514,\n",
      "       515, 516, 517, 518, 524, 528, 532, 533, 534, 535, 536, 537, 538,\n",
      "       539, 540, 541, 542, 544, 652, 654, 660, 661, 662, 663, 664, 665,\n",
      "       666, 667, 668, 669, 670, 671, 672, 673, 674, 675, 676, 677, 678,\n",
      "       679, 680, 681, 682, 683, 684, 685, 686, 687, 688, 689, 690, 691,\n",
      "       692, 693, 694, 695, 696, 697, 698, 699, 700, 701, 702, 703, 704,\n",
      "       705, 706, 707, 708, 709, 710, 711, 712, 713, 714, 715, 716, 717,\n",
      "       718, 719, 720, 721, 722, 723, 724, 725, 726, 727, 728, 729, 730,\n",
      "       731, 732, 733, 734, 735, 736, 737, 738, 739, 740, 741, 742, 743,\n",
      "       744, 745, 746, 747, 748, 749, 750, 751, 752, 753, 754, 755, 756,\n",
      "       757, 758, 759, 760, 761, 762, 763, 764, 765, 766, 767, 768, 769,\n",
      "       770, 771, 772, 773, 774, 775, 776, 777, 778, 779, 780, 781, 782,\n",
      "       783, 784, 785, 786, 787, 788, 789, 790, 791, 792, 793, 794, 795,\n",
      "       796, 797, 798, 799, 800, 801, 802, 803, 804, 805, 806, 807, 808,\n",
      "       809, 810, 811, 812, 813, 814, 815, 816, 817, 818, 819, 820, 821,\n",
      "       822, 823, 824, 825, 826, 827, 828, 829, 830, 831, 832, 833, 834,\n",
      "       835, 836, 837, 838, 839, 840, 841, 842, 843, 844, 845, 846, 847,\n",
      "       848, 849, 850, 851, 852, 853, 854, 855, 856, 857, 858, 859, 860,\n",
      "       861, 862, 863, 864, 865, 866, 867, 868, 869, 870, 871, 872, 873,\n",
      "       874, 875, 876, 877, 878, 879, 880, 881, 882, 883, 884, 885, 886,\n",
      "       887, 888, 889, 890, 891, 892, 893, 894, 895, 896, 897, 898, 899,\n",
      "       900, 901, 902, 903, 904, 905, 906, 907, 908, 909, 910, 911, 912,\n",
      "       913, 914, 915, 916, 917, 918, 919, 920, 921, 922, 923, 924, 925,\n",
      "       926, 927, 928, 929, 930, 931, 932, 933, 934, 935, 936, 937, 938,\n",
      "       939, 940, 941, 942, 943, 944, 945, 946, 947, 948, 949, 950, 951,\n",
      "       952, 953, 954, 955, 956, 957, 958, 959, 960, 961, 962, 963, 964,\n",
      "       965, 966, 967, 968, 969, 970, 971, 972, 973, 974, 975, 976, 977,\n",
      "       978, 979, 980, 981, 982, 983, 984, 985, 986, 987, 988, 989, 990,\n",
      "       991, 992, 993, 994, 995, 996, 997, 998], dtype=int64),)\n"
     ]
    }
   ],
   "source": [
    "#Display the best number of trees\n",
    "scores = np.asarray(scores)\n",
    "print(np.argmax(scores))\n",
    "print(scores[np.argmax(scores)]) \n",
    "print(np.where(scores == scores[np.argmax(scores)]))\n",
    "\n",
    "#Since the counting started from 1 not zero in the for loop, 1 should be added to those numbers\n",
    "#In other words, the least number of features that can generate top accuracy is 9 not 8"
   ]
  },
  {
   "cell_type": "code",
   "execution_count": 16,
   "metadata": {},
   "outputs": [
    {
     "name": "stdout",
     "output_type": "stream",
     "text": [
      "0.9863636363636363\n",
      "[[198   0]\n",
      " [  3  19]]\n",
      "                     precision    recall  f1-score   support\n",
      "\n",
      "      Primary Tumor       0.99      1.00      0.99       198\n",
      "Solid Tissue Normal       1.00      0.86      0.93        22\n",
      "\n",
      "           accuracy                           0.99       220\n",
      "          macro avg       0.99      0.93      0.96       220\n",
      "       weighted avg       0.99      0.99      0.99       220\n",
      "\n",
      "the number of important features used:  1261\n",
      "number of similar features:  18\n",
      "time:  2.931797981262207\n",
      "\n",
      "\n"
     ]
    }
   ],
   "source": [
    "#to get the common features between top 19 MI features and the features of the 345 trees in the Random forest\n",
    "X_train, X_test, y_train, y_test = train_test_split(X, y, test_size=0.40, random_state=42, stratify=y)\n",
    "sc = StandardScaler()\n",
    "X_train = sc.fit_transform(X_train)\n",
    "X_test = sc.transform(X_test)\n",
    "ST = time.time()\n",
    "regressor = RandomForestClassifier(n_estimators=345, random_state=42)\n",
    "regressor.fit(X_train, y_train)\n",
    "y_pred = regressor.predict(X_test)\n",
    "sorted_features = sorted (zip(map(lambda x: round(x, 4), regressor.feature_importances_), indx),reverse=True)\n",
    "important_f = []\n",
    "  \n",
    "\n",
    "for s in sorted_features:\n",
    "  if s[0] != 0:\n",
    "    important_f.append(s[1])\n",
    "important_f = np.transpose(important_f)\n",
    "important_f = np.asarray(important_f)\n",
    "\n",
    "#checking the similarities in the first 19 features in MI with features used in RF (n_estimators = 345)\n",
    "it = sorted(range(len(gains)), key = lambda sub: gains[sub])[-19:]\n",
    "similarity = []\n",
    "count = 0\n",
    "for f in important_f:\n",
    "  for t in it:\n",
    "    if (f == t):\n",
    "      count = count + 1\n",
    "      similarity.append(f)\n",
    "\n",
    "print(accuracy_score(y_test, y_pred))\n",
    "print(confusion_matrix(y_test,y_pred))\n",
    "print(classification_report(y_test,y_pred))\n",
    "print(\"the number of important features used: \", len(important_f))\n",
    "print (\"number of similar features: \", len(similarity))  \n",
    "ET = time.time()\n",
    "print(\"time: \", ET - ST)\n",
    "print(\"\\n\")\n"
   ]
  },
  {
   "cell_type": "code",
   "execution_count": 17,
   "metadata": {},
   "outputs": [
    {
     "name": "stdout",
     "output_type": "stream",
     "text": [
      "(329, 60488)\n",
      "(329,)\n",
      "(220, 60488)\n",
      "(220,)\n",
      "TotalTime: 3921.0146672725677\n"
     ]
    }
   ],
   "source": [
    "#The wrapper technique (Recursive Feature Elimination [RFE])\n",
    "X_train, X_test, y_train, y_test = train_test_split(X, y, test_size=0.40, random_state=42, stratify=y)\n",
    "sc = StandardScaler()\n",
    "X_train = sc.fit_transform(X_train)\n",
    "X_test = sc.transform(X_test)\n",
    "\n",
    "print(X_train.shape)\n",
    "print(y_train.shape)\n",
    "print(X_test.shape)\n",
    "print(y_test.shape)\n",
    "graph_RFE = []\n",
    "Total_time = time.time()\n",
    "for i in range(1, 1000):\n",
    "  startTime = time.time()\n",
    "  estimator = LinearSVC(random_state=42)\n",
    "  selector = RFE(estimator, n_features_to_select= i, step=0.5)\n",
    "  selector = selector.fit(X_train, y_train)\n",
    "  # testing the model\n",
    "  y_pred = selector.predict(X_test)\n",
    "  graph_RFE.append(selector.score(X_test, y_test))\n",
    "EndTime = time.time()\n",
    "print('TotalTime: ' + str(EndTime - Total_time))\n"
   ]
  },
  {
   "cell_type": "code",
   "execution_count": 18,
   "metadata": {},
   "outputs": [
    {
     "data": {
      "text/plain": [
       "Text(0, 0.5, 'Accuracy')"
      ]
     },
     "execution_count": 18,
     "metadata": {},
     "output_type": "execute_result"
    },
    {
     "data": {
      "image/png": "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\n",
      "text/plain": [
       "<Figure size 432x288 with 1 Axes>"
      ]
     },
     "metadata": {
      "needs_background": "light"
     },
     "output_type": "display_data"
    }
   ],
   "source": [
    "#Plot a graph with all accuracy scores\n",
    "plt.plot(graph_RFE)\n",
    "plt.xlabel('Number of genes')\n",
    "plt.ylabel('Accuracy')\n"
   ]
  },
  {
   "cell_type": "code",
   "execution_count": 19,
   "metadata": {},
   "outputs": [
    {
     "name": "stdout",
     "output_type": "stream",
     "text": [
      "75\n",
      "0.9772727272727273\n",
      "21\n",
      "(array([ 75,  76,  77,  78,  79,  80,  81,  82,  83,  84,  85,  86,  87,\n",
      "       121, 122, 123, 124, 125, 126, 127, 128], dtype=int64),)\n"
     ]
    }
   ],
   "source": [
    "#Display the best number of features\n",
    "graph_RFE = np.asarray(graph_RFE)\n",
    "print(np.argmax(graph_RFE))\n",
    "print(graph_RFE[np.argmax(graph_RFE)])\n",
    "print(np.count_nonzero(np.where(graph_RFE == graph_RFE[np.argmax(graph_RFE)])))\n",
    "print(np.where(graph_RFE == graph_RFE[np.argmax(graph_RFE)]))\n",
    "\n",
    "#Since the counting started from 1 not zero in the for loop, 1 should be added to those numbers\n",
    "#In other words, the least number of features that can generate top accuracy is 76 not 75"
   ]
  },
  {
   "cell_type": "code",
   "execution_count": 20,
   "metadata": {},
   "outputs": [
    {
     "name": "stdout",
     "output_type": "stream",
     "text": [
      "(329, 60488)\n",
      "(329,)\n",
      "(220, 60488)\n",
      "(220,)\n",
      "Time: 3.8034536838531494\n",
      "0.9772727272727273\n",
      "0.9772727272727273\n",
      "[[195   3]\n",
      " [  2  20]]\n",
      "                     precision    recall  f1-score   support\n",
      "\n",
      "      Primary Tumor       0.99      0.98      0.99       198\n",
      "Solid Tissue Normal       0.87      0.91      0.89        22\n",
      "\n",
      "           accuracy                           0.98       220\n",
      "          macro avg       0.93      0.95      0.94       220\n",
      "       weighted avg       0.98      0.98      0.98       220\n",
      "\n",
      "76\n"
     ]
    }
   ],
   "source": [
    "#The wrapper method (recursive feature elimination RFE) 76 features only\n",
    "X_train, X_test, y_train, y_test = train_test_split(X, y, test_size=0.40, random_state=42, stratify=y)\n",
    "sc = StandardScaler()\n",
    "X_train = sc.fit_transform(X_train)\n",
    "X_test = sc.transform(X_test)\n",
    "\n",
    "print(X_train.shape)\n",
    "print(y_train.shape)\n",
    "print(X_test.shape)\n",
    "print(y_test.shape)\n",
    "\n",
    "startTime = time.time()\n",
    "estimator = LinearSVC(random_state=42)\n",
    "selector = RFE(estimator, n_features_to_select= 76, step=0.5)\n",
    "selector = selector.fit(X_train, y_train)\n",
    "endTime = time.time()\n",
    "print('Time: ' + str(endTime - startTime))\n",
    "# testing the model\n",
    "y_pred = selector.predict(X_test)\n",
    "print(accuracy_score(y_test,y_pred))\n",
    "print(selector.score(X_test, y_test))\n",
    "print(confusion_matrix(y_test,y_pred))\n",
    "print(classification_report(y_test,y_pred))\n",
    "print(np.count_nonzero(selector.support_ == 1))\n"
   ]
  },
  {
   "cell_type": "code",
   "execution_count": 21,
   "metadata": {},
   "outputs": [],
   "source": [
    "#Create a list with indices of RFE Features\n",
    "RFE_features = np.where(selector.support_ == 1)\n",
    "RFE_features = np.asarray(RFE_features)\n",
    "rfe_f = []\n",
    "for i in RFE_features:\n",
    "  for s in i:\n",
    "    rfe_f.append(s)\n",
    "rfe_f = np.asarray(rfe_f)"
   ]
  },
  {
   "cell_type": "code",
   "execution_count": 22,
   "metadata": {},
   "outputs": [
    {
     "name": "stdout",
     "output_type": "stream",
     "text": [
      "number of similar features between RFE and MI:  12\n",
      "number of similar features between RFE and RF:  50\n",
      "number of similar features between RF and MI:  18\n",
      "number of similar features between RFE, RF and MI:  12\n"
     ]
    }
   ],
   "source": [
    "#Create list with common features among techniques\n",
    "similar_all = []\n",
    "similar_rfe_RF = []\n",
    "similar_rfe_MI = []\n",
    "\n",
    "count = 0\n",
    "for f in it:\n",
    "  for t in rfe_f:\n",
    "    if (f == t):\n",
    "      count = count + 1\n",
    "      similar_rfe_MI.append(f)\n",
    "print(\"number of similar features between RFE and MI: \", count)\n",
    "\n",
    "count = 0\n",
    "for f in important_f:\n",
    "  for t in rfe_f:\n",
    "    if (f == t):\n",
    "      count = count + 1\n",
    "      similar_rfe_RF.append(f)\n",
    "print(\"number of similar features between RFE and RF: \", count)\n",
    "\n",
    "count = 0\n",
    "for f in similarity:\n",
    "  for t in rfe_f:\n",
    "    if (f == t):\n",
    "      count = count + 1\n",
    "      similar_all.append(f)\n",
    "print(\"number of similar features between RF and MI: \", len(similarity))\n",
    "print(\"number of similar features between RFE, RF and MI: \", count)\n"
   ]
  },
  {
   "cell_type": "code",
   "execution_count": 23,
   "metadata": {},
   "outputs": [
    {
     "name": "stdout",
     "output_type": "stream",
     "text": [
      "Score: 0.9772727272727273\n",
      "Time: 5.033010721206665\n",
      "[[197   1]\n",
      " [  4  18]]\n",
      "                     precision    recall  f1-score   support\n",
      "\n",
      "      Primary Tumor       0.98      0.99      0.99       198\n",
      "Solid Tissue Normal       0.95      0.82      0.88        22\n",
      "\n",
      "           accuracy                           0.98       220\n",
      "          macro avg       0.96      0.91      0.93       220\n",
      "       weighted avg       0.98      0.98      0.98       220\n",
      "\n",
      "0.9772727272727273\n"
     ]
    },
    {
     "name": "stderr",
     "output_type": "stream",
     "text": [
      "C:\\Users\\MSI\\anaconda3\\lib\\site-packages\\sklearn\\svm\\_base.py:976: ConvergenceWarning: Liblinear failed to converge, increase the number of iterations.\n",
      "  warnings.warn(\"Liblinear failed to converge, increase \"\n"
     ]
    }
   ],
   "source": [
    "#A LinearSVC Model using the similar features between all of them\n",
    "startTime = time.time()\n",
    "X_train, X_test, y_train, y_test = train_test_split(X, y, test_size=0.40, random_state=42, stratify=y)\n",
    "sc = StandardScaler()\n",
    "X_train = sc.fit_transform(X_train)\n",
    "X_test = sc.transform(X_test)\n",
    "X_train = X_train[:, similar_all]\n",
    "X_test = X_test[:, similar_all]\n",
    "Y_train = y_train[:]\n",
    "Y_test = y_test[:]\n",
    "X_train = X_train.astype('float32')\n",
    "X_test = X_test.astype('float32')\n",
    "Y_train = Y_train[:]\n",
    "Y_test = Y_test[:]\n",
    "clf = LinearSVC(random_state=42)\n",
    "\n",
    "clf.fit(X_train, Y_train)\n",
    "\n",
    "endTime = time.time()\n",
    "print('Score: ' + str(clf.score(X_test, Y_test)))\n",
    "print('Time: ' + str(endTime - startTime))\n",
    "y_pred = clf.predict(X_test)\n",
    "print(confusion_matrix(y_test,y_pred))\n",
    "print(classification_report(y_test,y_pred))\n",
    "print(accuracy_score(y_test, y_pred))"
   ]
  },
  {
   "cell_type": "code",
   "execution_count": 24,
   "metadata": {},
   "outputs": [
    {
     "name": "stdout",
     "output_type": "stream",
     "text": [
      "Number of common features between at least two techniques:  56\n"
     ]
    }
   ],
   "source": [
    "#Create a list with common features between at least two techniques\n",
    "common = []\n",
    "zzz = []\n",
    "zzz = similar_all + similar_rfe_MI + similar_rfe_RF + similarity\n",
    "for i in zzz:\n",
    "  if i in common:\n",
    "    pass\n",
    "  else:\n",
    "    common.append(i)\n",
    "print (\"Number of common features between at least two techniques: \",len(common))"
   ]
  },
  {
   "cell_type": "code",
   "execution_count": 25,
   "metadata": {},
   "outputs": [
    {
     "name": "stdout",
     "output_type": "stream",
     "text": [
      "Score: 0.9727272727272728\n",
      "Time: 5.0449981689453125\n",
      "[[195   3]\n",
      " [  3  19]]\n",
      "                     precision    recall  f1-score   support\n",
      "\n",
      "      Primary Tumor       0.98      0.98      0.98       198\n",
      "Solid Tissue Normal       0.86      0.86      0.86        22\n",
      "\n",
      "           accuracy                           0.97       220\n",
      "          macro avg       0.92      0.92      0.92       220\n",
      "       weighted avg       0.97      0.97      0.97       220\n",
      "\n",
      "0.9727272727272728\n"
     ]
    }
   ],
   "source": [
    "#A LinearSVC Model using the common features between at least two techniques\n",
    "startTime = time.time()\n",
    "X_train, X_test, y_train, y_test = train_test_split(X, y, test_size=0.40, random_state=42, stratify=y)\n",
    "sc = StandardScaler()\n",
    "X_train = sc.fit_transform(X_train)\n",
    "X_test = sc.transform(X_test)\n",
    "\n",
    "X_train = X_train[:, common]\n",
    "X_test = X_test[:, common]\n",
    "Y_train = y_train[:]\n",
    "Y_test = y_test[:]\n",
    "X_train = X_train.astype('float32')\n",
    "X_test = X_test.astype('float32')\n",
    "Y_train = Y_train[:]\n",
    "Y_test = Y_test[:]\n",
    "clf = LinearSVC(random_state=42)\n",
    "\n",
    "clf.fit(X_train, Y_train)\n",
    "\n",
    "endTime = time.time()\n",
    "print('Score: ' + str(clf.score(X_test, Y_test)))\n",
    "print('Time: ' + str(endTime - startTime))\n",
    "y_pred = clf.predict(X_test)\n",
    "print(confusion_matrix(y_test,y_pred))\n",
    "print(classification_report(y_test,y_pred))\n",
    "print(accuracy_score(y_test, y_pred))"
   ]
  },
  {
   "cell_type": "code",
   "execution_count": 26,
   "metadata": {},
   "outputs": [],
   "source": [
    "#Save in a Data Frame\n",
    "similar_all_names = []\n",
    "for i in similar_all:\n",
    "  similar_all_names.append(features_names[i])\n",
    "df_similar_All = pd.DataFrame(similar_all_names)\n",
    "df_similar_All.to_csv(r'Similar_All_Features.csv', index=False) "
   ]
  },
  {
   "cell_type": "code",
   "execution_count": 27,
   "metadata": {},
   "outputs": [],
   "source": [
    "similar_rfe_MI_names = []\n",
    "for i in similar_rfe_MI:\n",
    "  similar_rfe_MI_names.append(features_names[i])\n",
    "df_similar_rfe_MI = pd.DataFrame(similar_rfe_MI_names)\n",
    "df_similar_rfe_MI.to_csv(r'Similar_RFE_MI_Features.csv', index=False) "
   ]
  },
  {
   "cell_type": "code",
   "execution_count": 28,
   "metadata": {},
   "outputs": [],
   "source": [
    "similar_rfe_RF_names = []\n",
    "for i in similar_rfe_RF:\n",
    "  similar_rfe_RF_names.append(features_names[i])\n",
    "df_similar_rfe_RF = pd.DataFrame(similar_rfe_RF_names)\n",
    "df_similar_rfe_RF.to_csv(r'Similar_RFE_RF_Features.csv', index=False) "
   ]
  },
  {
   "cell_type": "code",
   "execution_count": 29,
   "metadata": {},
   "outputs": [],
   "source": [
    "similar_MI_RF = []\n",
    "for i in similarity:\n",
    "  similar_MI_RF.append(features_names[i])\n",
    "df_similar_MI_RF = pd.DataFrame(similar_MI_RF)\n",
    "df_similar_MI_RF.to_csv(r'Similar_MI_RF_Features.csv', index=False) "
   ]
  },
  {
   "cell_type": "code",
   "execution_count": 30,
   "metadata": {},
   "outputs": [],
   "source": [
    "rfe_f_names = []\n",
    "for i in rfe_f:\n",
    "  rfe_f_names.append(features_names[i])\n",
    "df_RFE = pd.DataFrame(rfe_f_names)\n",
    "df_RFE.to_csv(r'RFE_features.csv', index=False) "
   ]
  },
  {
   "cell_type": "code",
   "execution_count": 31,
   "metadata": {},
   "outputs": [],
   "source": [
    "MI_f_names = []\n",
    "for i in it:\n",
    "  MI_f_names.append(features_names[i])\n",
    "df_MI = pd.DataFrame(MI_f_names)\n",
    "df_MI.to_csv(r'MI_features.csv', index=False) "
   ]
  },
  {
   "cell_type": "code",
   "execution_count": 32,
   "metadata": {},
   "outputs": [],
   "source": [
    "RF_f_names = []\n",
    "for i in important_f:\n",
    "  RF_f_names.append(features_names[i])\n",
    "df_RF = pd.DataFrame(RF_f_names)\n",
    "df_RF.to_csv(r'RF_features.csv', index=False) "
   ]
  },
  {
   "cell_type": "code",
   "execution_count": 33,
   "metadata": {},
   "outputs": [],
   "source": [
    "common_all = []\n",
    "for i in common:\n",
    "  common_all.append(features_names[i])\n",
    "df_common = pd.DataFrame(common_all)\n",
    "df_common.to_csv(r'common_all.csv', index=False) "
   ]
  },
  {
   "cell_type": "code",
   "execution_count": null,
   "metadata": {},
   "outputs": [],
   "source": []
  }
 ],
 "metadata": {
  "kernelspec": {
   "display_name": "Python 3",
   "language": "python",
   "name": "python3"
  },
  "language_info": {
   "codemirror_mode": {
    "name": "ipython",
    "version": 3
   },
   "file_extension": ".py",
   "mimetype": "text/x-python",
   "name": "python",
   "nbconvert_exporter": "python",
   "pygments_lexer": "ipython3",
   "version": "3.8.3"
  }
 },
 "nbformat": 4,
 "nbformat_minor": 4
}
