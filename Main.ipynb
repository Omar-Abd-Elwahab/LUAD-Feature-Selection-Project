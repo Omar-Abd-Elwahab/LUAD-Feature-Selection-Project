{
 "cells": [
  {
   "cell_type": "code",
   "execution_count": 1,
   "metadata": {},
   "outputs": [],
   "source": [
    "# Importing Required Libraries\n",
    "import numpy as np\n",
    "import pandas as pd\n",
    "import matplotlib.pyplot as plt\n",
    "import warnings\n",
    "warnings.filterwarnings('ignore')\n",
    "%matplotlib inline\n",
    "from textwrap import wrap\n",
    "import time\n",
    "from sklearn.svm import LinearSVC\n",
    "from sklearn import svm\n",
    "from glob import glob\n",
    "import PIL\n",
    "import re\n",
    "\n",
    "\n",
    "# for data preparation and others\n",
    "from sklearn.preprocessing import StandardScaler\n",
    "from sklearn.model_selection import train_test_split\n",
    "from sklearn.metrics import classification_report, confusion_matrix, accuracy_score\n",
    "from sklearn.metrics import precision_recall_fscore_support\n",
    "from sklearn.calibration import CalibratedClassifierCV\n",
    "from sklearn.metrics import roc_curve\n",
    "from sklearn.metrics import roc_auc_score\n",
    "\n",
    "# models tried\n",
    "from sklearn.feature_selection import mutual_info_classif\n",
    "from sklearn.feature_selection import RFE\n",
    "from sklearn.svm import SVC\n",
    "from sklearn.ensemble import RandomForestClassifier\n"
   ]
  },
  {
   "cell_type": "code",
   "execution_count": 2,
   "metadata": {
    "scrolled": false
   },
   "outputs": [
    {
     "name": "stdout",
     "output_type": "stream",
     "text": [
      "60488\n"
     ]
    }
   ],
   "source": [
    "#Data Preprocessing\n",
    "\n",
    "df = pd.read_csv(\"df_new.csv\", delimiter=\",\", header = None)\n",
    "X = df.iloc[1:]\n",
    "X = np.asarray(X.values)\n",
    "X = np.delete(X, 0, 1)\n",
    "X = np.transpose(X)\n",
    "\n",
    "y = df.iloc[0]\n",
    "y = y[1:]\n",
    "y = np.asarray(y)\n",
    "y = np.transpose(y)\n",
    "\n",
    "features_names = df.iloc[1:]\n",
    "features_names = features_names.iloc[:,0]\n",
    "features_names = np.asarray(features_names)\n",
    "target_names = df.iloc[0]\n",
    "target_names = target_names[1:]\n",
    "target_names = np.asarray(target_names)\n",
    "target_names = np.transpose(target_names)\n",
    "\n",
    "\n",
    "indx = []\n",
    "for i in range(len(features_names)):\n",
    "  indx.append(i)\n",
    "print(len(features_names))"
   ]
  },
  {
   "cell_type": "code",
   "execution_count": 3,
   "metadata": {},
   "outputs": [],
   "source": [
    "#splitting the data into train-test\n",
    "X_train, X_test, y_train, y_test = train_test_split(X, y, test_size=0.40, random_state=42, stratify=y)\n"
   ]
  },
  {
   "cell_type": "code",
   "execution_count": 4,
   "metadata": {},
   "outputs": [],
   "source": [
    "#normalizing or scaling the data\n",
    "sc = StandardScaler()\n",
    "X_train = sc.fit_transform(X_train)\n",
    "X_test = sc.transform(X_test)\n"
   ]
  },
  {
   "cell_type": "code",
   "execution_count": 5,
   "metadata": {},
   "outputs": [
    {
     "name": "stdout",
     "output_type": "stream",
     "text": [
      "Time: 174.98296809196472\n"
     ]
    }
   ],
   "source": [
    "#filter technique (Mutual Information [MI])\n",
    "startTime = time.time()\n",
    "mi = mutual_info_classif(X_train, y_train, discrete_features='auto', n_neighbors=3, copy=True, random_state=42)\n",
    "endTime = time.time()\n",
    "print('Time: ' + str(endTime - startTime))\n"
   ]
  },
  {
   "cell_type": "code",
   "execution_count": 6,
   "metadata": {},
   "outputs": [
    {
     "name": "stdout",
     "output_type": "stream",
     "text": [
      "45292\n"
     ]
    }
   ],
   "source": [
    "#oraganizing MI data\n",
    "gains = np.asarray(mi)\n",
    "indexes = np.where(gains != 0)[0]\n",
    "print(len(indexes))\n"
   ]
  },
  {
   "cell_type": "code",
   "execution_count": 7,
   "metadata": {},
   "outputs": [
    {
     "name": "stdout",
     "output_type": "stream",
     "text": [
      "TotalTime: 84.50499486923218\n"
     ]
    }
   ],
   "source": [
    "#traingin a linearSVC model with different numbers of MI features starting from the top 2 to the top 1000\n",
    "#the highest accuracy corresponds to the best number of features\n",
    "graph_MI = []\n",
    "X_train, X_test, y_train, y_test = train_test_split(X, y, test_size=0.40, random_state=42, stratify=y)\n",
    "sc = StandardScaler()\n",
    "X_train = sc.fit_transform(X_train)\n",
    "X_test = sc.transform(X_test)\n",
    "TotalTime = time.time()\n",
    "for i in range (2,1000):\n",
    "  \n",
    "  it = sorted(range(len(gains)), key = lambda sub: gains[sub])[-i:]\n",
    "  x_train = X_train[:, it]\n",
    "  x_test = X_test[:, it]\n",
    "  Y_train = y_train[:]\n",
    "  Y_test = y_test[:]\n",
    "  x_train = x_train.astype('float32')\n",
    "  x_test = x_test.astype('float32')\n",
    "  clf = LinearSVC(random_state=42)\n",
    "  clf.fit(x_train, Y_train)\n",
    "  scores = clf.score(x_test, Y_test)\n",
    "  endTime = time.time()\n",
    "  y_pred = clf.predict(x_test)\n",
    "  graph_MI.append(scores)\n",
    "EndTime = time.time()\n",
    "print('TotalTime: ' + str(EndTime - TotalTime))"
   ]
  },
  {
   "cell_type": "code",
   "execution_count": 8,
   "metadata": {},
   "outputs": [
    {
     "data": {
      "text/plain": [
       "Text(0, 0.5, 'Accuracy')"
      ]
     },
     "execution_count": 8,
     "metadata": {},
     "output_type": "execute_result"
    },
    {
     "data": {
      "image/png": "[encoded data removed]",
      "text/plain": [
       "<Figure size 432x288 with 1 Axes>"
      ]
     },
     "metadata": {
      "needs_background": "light"
     },
     "output_type": "display_data"
    }
   ],
   "source": [
    "#Plot a graph with all accuracy scores\n",
    "plt.plot(graph_MI)\n",
    "plt.xlabel('Number of genes')\n",
    "plt.ylabel('Accuracy')\n"
   ]
  },
  {
   "cell_type": "code",
   "execution_count": 9,
   "metadata": {},
   "outputs": [
    {
     "name": "stdout",
     "output_type": "stream",
     "text": [
      "17\n",
      "0.9863636363636363\n",
      "(array([17, 18, 25], dtype=int64),)\n"
     ]
    }
   ],
   "source": [
    "#Display the best number of features\n",
    "graph_MI = np.asarray(graph_MI)\n",
    "print(np.argmax(graph_MI))\n",
    "print(graph_MI[np.argmax(graph_MI)]) \n",
    "print(np.where(graph_MI == graph_MI[np.argmax(graph_MI)]))\n",
    "\n",
    "#Since the counting started from 2 in the for loop, 2 should be added to those numbers\n",
    "#In other words, the least number of features that can generate top accuracy is 19 not 17"
   ]
  },
  {
   "cell_type": "code",
   "execution_count": 10,
   "metadata": {},
   "outputs": [
    {
     "data": {
      "text/plain": [
       "0.9863636363636363"
      ]
     },
     "execution_count": 10,
     "metadata": {},
     "output_type": "execute_result"
    }
   ],
   "source": [
    "graph_MI[17]\n",
    "#the higest accuracy is with 19 features because the list starts from 2"
   ]
  },
  {
   "cell_type": "code",
   "execution_count": 11,
   "metadata": {
    "scrolled": true
   },
   "outputs": [
    {
     "name": "stdout",
     "output_type": "stream",
     "text": [
      "Score: 0.9863636363636363\n",
      "Time: 0.009670257568359375\n",
      "[[198   0]\n",
      " [  3  19]]\n",
      "                     precision    recall  f1-score   support\n",
      "\n",
      "      Primary Tumor       0.99      1.00      0.99       198\n",
      "Solid Tissue Normal       1.00      0.86      0.93        22\n",
      "\n",
      "           accuracy                           0.99       220\n",
      "          macro avg       0.99      0.93      0.96       220\n",
      "       weighted avg       0.99      0.99      0.99       220\n",
      "\n",
      "0.9863636363636363\n",
      "(0.9865671641791044, 0.9863636363636363, 0.9859160095360352, None)\n"
     ]
    }
   ],
   "source": [
    "#Confusion matrix (19 features of MI) *******\n",
    "\n",
    "X_train, X_test, y_train, y_test = train_test_split(X, y, test_size=0.40, random_state=42, stratify=y)\n",
    "sc = StandardScaler()\n",
    "X_train = sc.fit_transform(X_train)\n",
    "X_test = sc.transform(X_test)\n",
    "\n",
    "\n",
    "\n",
    "it = sorted(range(len(gains)), key = lambda sub: gains[sub])[-19:]\n",
    "startTime = time.time()\n",
    "x_train = X_train[:, it]\n",
    "x_test = X_test[:, it]\n",
    "Y_train = y_train[:]\n",
    "Y_test = y_test[:]\n",
    "x_train = x_train.astype('float32')\n",
    "X_test = x_test.astype('float32')\n",
    "\n",
    "clf = LinearSVC(random_state=42)\n",
    "clf.fit(x_train, Y_train)\n",
    "scores = clf.score(x_test, Y_test)\n",
    "endTime = time.time()\n",
    "print('Score: ' + str(scores))\n",
    "print('Time: ' + str(endTime - startTime))\n",
    "y_pred = clf.predict(x_test)\n",
    "\n",
    "\n",
    "print(confusion_matrix(Y_test,y_pred))\n",
    "print(classification_report(Y_test,y_pred))\n",
    "print(accuracy_score(y_test, y_pred))\n",
    "print(precision_recall_fscore_support(y_test, y_pred, average = 'weighted'))\n",
    "\n"
   ]
  },
  {
   "cell_type": "code",
   "execution_count": 12,
   "metadata": {},
   "outputs": [
    {
     "name": "stdout",
     "output_type": "stream",
     "text": [
      "No Skill: ROC AUC=0.500\n",
      "Model: ROC AUC=0.992\n"
     ]
    },
    {
     "data": {
      "image/png": "[encoded data removed]",
      "text/plain": [
       "<Figure size 432x288 with 1 Axes>"
      ]
     },
     "metadata": {
      "needs_background": "light"
     },
     "output_type": "display_data"
    }
   ],
   "source": [
    "#ROC AUC calculations for the 19 features of MI Model\n",
    "\n",
    "#changing the class to discrete numbers for ROC AUC calculation\n",
    "ss = 0\n",
    "pp = 0\n",
    "y_test_binary = y_test.copy()\n",
    "y_train_binary = y_train.copy()\n",
    "\n",
    "for i in range(0, y_test_binary.size):\n",
    "    if (y_test_binary[i] == \"Primary Tumor\"):\n",
    "        y_test_binary[i] = int(0)\n",
    "        pp = pp + 1\n",
    "    if (y_test_binary[i] == \"Solid Tissue Normal\"):\n",
    "        y_test_binary[i] = int(1)\n",
    "        ss = ss + 1\n",
    "y_test_binary=y_test_binary.astype('int')\n",
    "\n",
    "for i in range(0, y_train_binary.size):\n",
    "    if (y_train_binary[i] == \"Primary Tumor\"):\n",
    "        y_train_binary[i] = int(0)\n",
    "        pp = pp + 1\n",
    "    if (y_train_binary[i] == \"Solid Tissue Normal\"):\n",
    "        y_train_binary[i] = int(1)\n",
    "        ss = ss + 1\n",
    "y_train_binary=y_train_binary.astype('int')\n",
    "\n",
    "\n",
    "# generate a no skill prediction (majority class)\n",
    "ns_probs = [0 for _ in range(len(y_test_binary))]\n",
    "\n",
    "\n",
    "Y_train_binary = y_train_binary[:]\n",
    "Y_test_binary = y_test_binary[:]\n",
    "\n",
    "# predict probabilities\n",
    "model = LinearSVC(random_state=42)\n",
    "model.fit(x_train, Y_train_binary)\n",
    "lr_probs = model.decision_function(x_test)\n",
    "\n",
    "# calculate scores\n",
    "ns_auc = roc_auc_score(Y_test_binary, ns_probs)\n",
    "lr_auc = roc_auc_score(Y_test_binary, lr_probs)\n",
    "# summarize scores: prints the ROC AUC for the model and the no skill classifier that only predicts 0 for all samples\n",
    "print('No Skill: ROC AUC=%.3f' % (ns_auc))\n",
    "print('Model: ROC AUC=%.3f' % (lr_auc))\n",
    "# calculate roc curves\n",
    "ns_fpr, ns_tpr, _ = roc_curve(Y_test_binary, ns_probs)\n",
    "lr_fpr, lr_tpr, _ = roc_curve(Y_test_binary, lr_probs)\n",
    "# plot the roc curve for the model\n",
    "plt.plot(ns_fpr, ns_tpr, linestyle='--', label='No Skill')\n",
    "plt.plot(lr_fpr, lr_tpr, marker='.', label='Model MI')\n",
    "# axis labels\n",
    "plt.xlabel('False Positive Rate')\n",
    "plt.ylabel('True Positive Rate')\n",
    "# show the legend\n",
    "plt.legend()\n",
    "# show the plot\n",
    "plt.show()\n"
   ]
  },
  {
   "cell_type": "code",
   "execution_count": null,
   "metadata": {},
   "outputs": [],
   "source": []
  },
  {
   "cell_type": "code",
   "execution_count": 13,
   "metadata": {},
   "outputs": [
    {
     "name": "stdout",
     "output_type": "stream",
     "text": [
      "Score: 0.9272727272727272\n",
      "0.9272727272727272\n",
      "[[182  16]\n",
      " [  0  22]]\n",
      "                     precision    recall  f1-score   support\n",
      "\n",
      "      Primary Tumor       1.00      0.92      0.96       198\n",
      "Solid Tissue Normal       0.58      1.00      0.73        22\n",
      "\n",
      "           accuracy                           0.93       220\n",
      "          macro avg       0.79      0.96      0.85       220\n",
      "       weighted avg       0.96      0.93      0.94       220\n",
      "\n",
      "0.9272727272727272\n",
      "Time: 2.499697685241699\n"
     ]
    }
   ],
   "source": [
    "#trying the LinearSVC model in case of all MI features\n",
    "X_train, X_test, y_train, y_test = train_test_split(X, y, test_size=0.40, random_state=42, stratify=y)\n",
    "sc = StandardScaler()\n",
    "X_train = sc.fit_transform(X_train)\n",
    "X_test = sc.transform(X_test)\n",
    "it = sorted(range(len(indexes)), key = lambda sub: gains[sub])[:]\n",
    "\n",
    "startTime = time.time()\n",
    "\n",
    "x_train = X_train[:, it]\n",
    "x_test = X_test[:, it]\n",
    "Y_train = y_train[:]\n",
    "Y_test = y_test[:]\n",
    "x_train = x_train.astype('float32')\n",
    "x_test = x_test.astype('float32')\n",
    "clf = LinearSVC(random_state=42)\n",
    "clf.fit(x_train, Y_train)\n",
    "scores = clf.score(x_test, Y_test)\n",
    "endTime = time.time()\n",
    "y_pred = clf.predict(x_test)\n",
    "print('Score: ' + str(scores))\n",
    "print(accuracy_score(Y_test, y_pred))\n",
    "print(confusion_matrix(Y_test,y_pred))\n",
    "print(classification_report(Y_test,y_pred))\n",
    "print(accuracy_score(y_test, y_pred))\n",
    "print('Time: ' + str(endTime - startTime))\n"
   ]
  },
  {
   "cell_type": "code",
   "execution_count": 14,
   "metadata": {},
   "outputs": [
    {
     "name": "stdout",
     "output_type": "stream",
     "text": [
      "Total Time:  3789.5115756988525\n"
     ]
    }
   ],
   "source": [
    "#Wrapper Technique (Random Forest [RF])\n",
    "#making a for loop to find the best number of estimators (trees) based on accuracy\n",
    "X_train, X_test, y_train, y_test = train_test_split(X, y, test_size=0.40, random_state=42, stratify=y)\n",
    "sc = StandardScaler()\n",
    "X_train = sc.fit_transform(X_train)\n",
    "X_test = sc.transform(X_test)\n",
    "scores = []\n",
    "start_time = time.time()\n",
    "for i in range (1, 1000):\n",
    "  regressor = RandomForestClassifier(n_estimators=i, random_state=42)\n",
    "  regressor.fit(X_train, y_train)\n",
    "  y_pred = regressor.predict(X_test)\n",
    "  sorted_features = sorted (zip(map(lambda x: round(x, 4), regressor.feature_importances_), indx),reverse=True)\n",
    "  important_f = []\n",
    "  \n",
    "\n",
    "  for s in sorted_features:\n",
    "    if s[0] != 0:\n",
    "      important_f.append(s[1])\n",
    "  important_f = np.transpose(important_f)\n",
    "  important_f = np.asarray(important_f)\n",
    "    \n",
    "    \n",
    "  #checking the similarities in the first 19 features in MI with features used in RF (n_estimators = i)\n",
    "  it = sorted(range(len(gains)), key = lambda sub: gains[sub])[-19:]\n",
    "  similarity = []\n",
    "  count = 0\n",
    "  for f in important_f:\n",
    "    for t in it:\n",
    "      if (f == t):\n",
    "        count = count + 1\n",
    "        similarity.append(f)\n",
    "  scores.append(accuracy_score(y_test, y_pred))\n",
    "endTime = time.time()\n",
    "print(\"Total Time: \", str(endTime - start_time))"
   ]
  },
  {
   "cell_type": "code",
   "execution_count": 15,
   "metadata": {},
   "outputs": [
    {
     "data": {
      "text/plain": [
       "Text(0, 0.5, 'Accuracy')"
      ]
     },
     "execution_count": 15,
     "metadata": {},
     "output_type": "execute_result"
    },
    {
     "data": {
      "image/png": "[encoded data removed]",
      "text/plain": [
       "<Figure size 432x288 with 1 Axes>"
      ]
     },
     "metadata": {
      "needs_background": "light"
     },
     "output_type": "display_data"
    }
   ],
   "source": [
    "#Plot a graph with all accuracy scores\n",
    "plt.plot(scores)\n",
    "plt.xlabel('Number of trees')\n",
    "plt.ylabel('Accuracy')\n"
   ]
  },
  {
   "cell_type": "code",
   "execution_count": 16,
   "metadata": {},
   "outputs": [
    {
     "name": "stdout",
     "output_type": "stream",
     "text": [
      "8\n",
      "0.9863636363636363\n",
      "(array([  8,  10, 344, 345, 346, 347, 348, 350, 351, 352, 354, 356, 357,\n",
      "       358, 384, 385, 386, 388, 389, 390, 392, 393, 394, 396, 397, 398,\n",
      "       399, 400, 401, 402, 403, 404, 405, 406, 407, 408, 409, 410, 411,\n",
      "       412, 413, 414, 415, 416, 417, 418, 419, 420, 421, 422, 423, 424,\n",
      "       425, 426, 427, 428, 429, 430, 431, 432, 436, 437, 438, 439, 440,\n",
      "       441, 442, 443, 444, 445, 446, 447, 448, 449, 450, 451, 452, 453,\n",
      "       454, 455, 456, 457, 458, 459, 460, 461, 462, 463, 464, 465, 466,\n",
      "       467, 468, 470, 492, 498, 500, 506, 507, 508, 510, 512, 513, 514,\n",
      "       515, 516, 517, 518, 524, 528, 532, 533, 534, 535, 536, 537, 538,\n",
      "       539, 540, 541, 542, 544, 652, 654, 660, 661, 662, 663, 664, 665,\n",
      "       666, 667, 668, 669, 670, 671, 672, 673, 674, 675, 676, 677, 678,\n",
      "       679, 680, 681, 682, 683, 684, 685, 686, 687, 688, 689, 690, 691,\n",
      "       692, 693, 694, 695, 696, 697, 698, 699, 700, 701, 702, 703, 704,\n",
      "       705, 706, 707, 708, 709, 710, 711, 712, 713, 714, 715, 716, 717,\n",
      "       718, 719, 720, 721, 722, 723, 724, 725, 726, 727, 728, 729, 730,\n",
      "       731, 732, 733, 734, 735, 736, 737, 738, 739, 740, 741, 742, 743,\n",
      "       744, 745, 746, 747, 748, 749, 750, 751, 752, 753, 754, 755, 756,\n",
      "       757, 758, 759, 760, 761, 762, 763, 764, 765, 766, 767, 768, 769,\n",
      "       770, 771, 772, 773, 774, 775, 776, 777, 778, 779, 780, 781, 782,\n",
      "       783, 784, 785, 786, 787, 788, 789, 790, 791, 792, 793, 794, 795,\n",
      "       796, 797, 798, 799, 800, 801, 802, 803, 804, 805, 806, 807, 808,\n",
      "       809, 810, 811, 812, 813, 814, 815, 816, 817, 818, 819, 820, 821,\n",
      "       822, 823, 824, 825, 826, 827, 828, 829, 830, 831, 832, 833, 834,\n",
      "       835, 836, 837, 838, 839, 840, 841, 842, 843, 844, 845, 846, 847,\n",
      "       848, 849, 850, 851, 852, 853, 854, 855, 856, 857, 858, 859, 860,\n",
      "       861, 862, 863, 864, 865, 866, 867, 868, 869, 870, 871, 872, 873,\n",
      "       874, 875, 876, 877, 878, 879, 880, 881, 882, 883, 884, 885, 886,\n",
      "       887, 888, 889, 890, 891, 892, 893, 894, 895, 896, 897, 898, 899,\n",
      "       900, 901, 902, 903, 904, 905, 906, 907, 908, 909, 910, 911, 912,\n",
      "       913, 914, 915, 916, 917, 918, 919, 920, 921, 922, 923, 924, 925,\n",
      "       926, 927, 928, 929, 930, 931, 932, 933, 934, 935, 936, 937, 938,\n",
      "       939, 940, 941, 942, 943, 944, 945, 946, 947, 948, 949, 950, 951,\n",
      "       952, 953, 954, 955, 956, 957, 958, 959, 960, 961, 962, 963, 964,\n",
      "       965, 966, 967, 968, 969, 970, 971, 972, 973, 974, 975, 976, 977,\n",
      "       978, 979, 980, 981, 982, 983, 984, 985, 986, 987, 988, 989, 990,\n",
      "       991, 992, 993, 994, 995, 996, 997, 998], dtype=int64),)\n"
     ]
    }
   ],
   "source": [
    "#Display the best number of trees\n",
    "scores = np.asarray(scores)\n",
    "print(np.argmax(scores))\n",
    "print(scores[np.argmax(scores)]) \n",
    "print(np.where(scores == scores[np.argmax(scores)]))\n",
    "\n",
    "#Since the counting started from 1 not zero in the for loop, 1 should be added to those numbers\n",
    "#In other words, the least number of features that can generate top accuracy is 9 not 8"
   ]
  },
  {
   "cell_type": "code",
   "execution_count": 17,
   "metadata": {},
   "outputs": [
    {
     "name": "stdout",
     "output_type": "stream",
     "text": [
      "0.9863636363636363\n",
      "[[198   0]\n",
      " [  3  19]]\n",
      "                     precision    recall  f1-score   support\n",
      "\n",
      "      Primary Tumor       0.99      1.00      0.99       198\n",
      "Solid Tissue Normal       1.00      0.86      0.93        22\n",
      "\n",
      "           accuracy                           0.99       220\n",
      "          macro avg       0.99      0.93      0.96       220\n",
      "       weighted avg       0.99      0.99      0.99       220\n",
      "\n",
      "(0.9865671641791044, 0.9863636363636363, 0.9859160095360352, None)\n",
      "the number of important features used:  1261\n",
      "number of similar features:  18\n",
      "time:  2.6429686546325684\n",
      "\n",
      "\n"
     ]
    }
   ],
   "source": [
    "#to get the common features between top 19 MI features and the features of the 345 trees in the Random forest\n",
    "X_train, X_test, y_train, y_test = train_test_split(X, y, test_size=0.40, random_state=42, stratify=y)\n",
    "sc = StandardScaler()\n",
    "X_train = sc.fit_transform(X_train)\n",
    "X_test = sc.transform(X_test)\n",
    "ST = time.time()\n",
    "regressor = RandomForestClassifier(n_estimators=345, random_state=42)\n",
    "regressor.fit(X_train, y_train)\n",
    "y_pred = regressor.predict(X_test)\n",
    "sorted_features = sorted (zip(map(lambda x: round(x, 4), regressor.feature_importances_), indx),reverse=True)\n",
    "important_f = []\n",
    "  \n",
    "\n",
    "for s in sorted_features:\n",
    "  if s[0] != 0:\n",
    "    important_f.append(s[1])\n",
    "important_f = np.transpose(important_f)\n",
    "important_f = np.asarray(important_f)\n",
    "\n",
    "#checking the similarities in the first 19 features in MI with features used in RF (n_estimators = 345)\n",
    "it = sorted(range(len(gains)), key = lambda sub: gains[sub])[-19:]\n",
    "similarity = []\n",
    "count = 0\n",
    "for f in important_f:\n",
    "  for t in it:\n",
    "    if (f == t):\n",
    "      count = count + 1\n",
    "      similarity.append(f)\n",
    "\n",
    "print(accuracy_score(y_test, y_pred))\n",
    "print(confusion_matrix(y_test,y_pred))\n",
    "print(classification_report(y_test,y_pred))\n",
    "print(precision_recall_fscore_support(y_test, y_pred, average = 'weighted'))\n",
    "print(\"the number of important features used: \", len(important_f))\n",
    "print (\"number of similar features: \", len(similarity))  \n",
    "\n",
    "ET = time.time()\n",
    "print(\"time: \", ET - ST)\n",
    "print(\"\\n\")\n"
   ]
  },
  {
   "cell_type": "code",
   "execution_count": 18,
   "metadata": {},
   "outputs": [
    {
     "name": "stdout",
     "output_type": "stream",
     "text": [
      "No Skill: ROC AUC=0.500\n",
      "Model: ROC AUC=1.000\n"
     ]
    },
    {
     "data": {
      "image/png": "[encoded data removed]",
      "text/plain": [
       "<Figure size 432x288 with 1 Axes>"
      ]
     },
     "metadata": {
      "needs_background": "light"
     },
     "output_type": "display_data"
    }
   ],
   "source": [
    "#ROC AUC calculations for the 1264 features of 345 trees in Random Forest Model\n",
    "\n",
    "#changing the class to discrete numbers for ROC AUC calculation\n",
    "ss = 0\n",
    "pp = 0\n",
    "y_test_binary = y_test.copy()\n",
    "y_train_binary = y_train.copy()\n",
    "\n",
    "for i in range(0, y_test_binary.size):\n",
    "    if (y_test_binary[i] == \"Primary Tumor\"):\n",
    "        y_test_binary[i] = int(0)\n",
    "        pp = pp + 1\n",
    "    if (y_test_binary[i] == \"Solid Tissue Normal\"):\n",
    "        y_test_binary[i] = int(1)\n",
    "        ss = ss + 1\n",
    "y_test_binary=y_test_binary.astype('int')\n",
    "\n",
    "for i in range(0, y_train_binary.size):\n",
    "    if (y_train_binary[i] == \"Primary Tumor\"):\n",
    "        y_train_binary[i] = int(0)\n",
    "        pp = pp + 1\n",
    "    if (y_train_binary[i] == \"Solid Tissue Normal\"):\n",
    "        y_train_binary[i] = int(1)\n",
    "        ss = ss + 1\n",
    "y_train_binary=y_train_binary.astype('int')\n",
    "\n",
    "\n",
    "# generate a no skill prediction (majority class)\n",
    "ns_probs = [0 for _ in range(len(y_test_binary))]\n",
    "\n",
    "\n",
    "Y_train_binary = y_train_binary[:]\n",
    "Y_test_binary = y_test_binary[:]\n",
    "\n",
    "# predict probabilities\n",
    "regressor = RandomForestClassifier(n_estimators=345, random_state=42)\n",
    "regressor.fit(X_train, y_train_binary)\n",
    "lr_probs = regressor.predict_proba(X_test)\n",
    "lr_probs = lr_probs[:, 1]\n",
    "\n",
    "\n",
    "# calculate scores\n",
    "ns_auc = roc_auc_score(Y_test_binary, ns_probs)\n",
    "lr_auc = roc_auc_score(Y_test_binary, lr_probs)\n",
    "# summarize scores: prints the ROC AUC for the model and the no skill classifier that only predicts 0 for all samples\n",
    "print('No Skill: ROC AUC=%.3f' % (ns_auc))\n",
    "print('Model: ROC AUC=%.3f' % (lr_auc))\n",
    "# calculate roc curves\n",
    "ns_fpr, ns_tpr, _ = roc_curve(Y_test_binary, ns_probs)\n",
    "lr_fpr, lr_tpr, _ = roc_curve(Y_test_binary, lr_probs)\n",
    "# plot the roc curve for the model\n",
    "plt.plot(ns_fpr, ns_tpr, linestyle='--', label='No Skill')\n",
    "plt.plot(lr_fpr, lr_tpr, marker='.', label='Model RF')\n",
    "# axis labels\n",
    "plt.xlabel('False Positive Rate')\n",
    "plt.ylabel('True Positive Rate')\n",
    "# show the legend\n",
    "plt.legend()\n",
    "# show the plot\n",
    "plt.show()\n"
   ]
  },
  {
   "cell_type": "code",
   "execution_count": 19,
   "metadata": {},
   "outputs": [
    {
     "name": "stdout",
     "output_type": "stream",
     "text": [
     ]
    },
    {
     "ename": "KeyboardInterrupt",
     "evalue": "",
     "output_type": "error",
     "traceback": [
     ]
    }
   ],
   "source": [
    "#The wrapper technique (Recursive Feature Elimination [RFE])\n",
    "X_train, X_test, y_train, y_test = train_test_split(X, y, test_size=0.40, random_state=42, stratify=y)\n",
    "sc = StandardScaler()\n",
    "X_train = sc.fit_transform(X_train)\n",
    "X_test = sc.transform(X_test)\n",
    "\n",
    "print(X_train.shape)\n",
    "print(y_train.shape)\n",
    "print(X_test.shape)\n",
    "print(y_test.shape)\n",
    "graph_RFE = []\n",
    "Total_time = time.time()\n",
    "for i in range(1, 1000):\n",
    "  startTime = time.time()\n",
    "  estimator = LinearSVC(random_state=42)\n",
    "  selector = RFE(estimator, n_features_to_select= i, step=0.5)\n",
    "  selector = selector.fit(X_train, y_train)\n",
    "  # testing the model\n",
    "  y_pred = selector.predict(X_test)\n",
    "  graph_RFE.append(selector.score(X_test, y_test))\n",
    "EndTime = time.time()\n",
    "print('TotalTime: ' + str(EndTime - Total_time))\n"
   ]
  },
  {
   "cell_type": "code",
   "execution_count": 20,
   "metadata": {},
   "outputs": [
    {
     "data": {
      "text/plain": [
       "Text(0, 0.5, 'Accuracy')"
      ]
     },
     "execution_count": 20,
     "metadata": {},
     "output_type": "execute_result"
    },
    {
     "data": {
      "image/png": "[encoded data removed]",
      "text/plain": [
       "<Figure size 432x288 with 1 Axes>"
      ]
     },
     "metadata": {
      "needs_background": "light"
     },
     "output_type": "display_data"
    }
   ],
   "source": [
    "#Plot a graph with all accuracy scores\n",
    "plt.plot(graph_RFE)\n",
    "plt.xlabel('Number of genes')\n",
    "plt.ylabel('Accuracy')\n"
   ]
  },
  {
   "cell_type": "code",
   "execution_count": 21,
   "metadata": {},
   "outputs": [
    {
     "name": "stdout",
     "output_type": "stream",
     "text": [
      "75\n",
      "0.9772727272727273\n",
      "21\n",
      "(array([ 75,  76,  77,  78,  79,  80,  81,  82,  83,  84,  85,  86,  87,\n",
      "       121, 122, 123, 124, 125, 126, 127, 128], dtype=int64),)\n"
     ]
    }
   ],
   "source": [
    "#Display the best number of features\n",
    "graph_RFE = np.asarray(graph_RFE)\n",
    "print(np.argmax(graph_RFE))\n",
    "print(graph_RFE[np.argmax(graph_RFE)])\n",
    "print(np.count_nonzero(np.where(graph_RFE == graph_RFE[np.argmax(graph_RFE)])))\n",
    "print(np.where(graph_RFE == graph_RFE[np.argmax(graph_RFE)]))\n",
    "\n",
    "#Since the counting started from 1 not zero in the for loop, 1 should be added to those numbers\n",
    "#In other words, the least number of features that can generate top accuracy is 76 not 75"
   ]
  },
  {
   "cell_type": "code",
   "execution_count": 22,
   "metadata": {},
   "outputs": [
    {
     "name": "stdout",
     "output_type": "stream",
     "text": [
      "(329, 60488)\n",
      "(329,)\n",
      "(220, 60488)\n",
      "(220,)\n",
      "Time: 3.769895315170288\n",
      "0.9772727272727273\n",
      "0.9772727272727273\n",
      "[[195   3]\n",
      " [  2  20]]\n",
      "                     precision    recall  f1-score   support\n",
      "\n",
      "      Primary Tumor       0.99      0.98      0.99       198\n",
      "Solid Tissue Normal       0.87      0.91      0.89        22\n",
      "\n",
      "           accuracy                           0.98       220\n",
      "          macro avg       0.93      0.95      0.94       220\n",
      "       weighted avg       0.98      0.98      0.98       220\n",
      "\n",
      "(0.9778194659015669, 0.9772727272727273, 0.9774964838255977, None)\n",
      "76\n"
     ]
    }
   ],
   "source": [
    "#The wrapper method (recursive feature elimination RFE) 76 features only\n",
    "X_train, X_test, y_train, y_test = train_test_split(X, y, test_size=0.40, random_state=42, stratify=y)\n",
    "sc = StandardScaler()\n",
    "X_train = sc.fit_transform(X_train)\n",
    "X_test = sc.transform(X_test)\n",
    "\n",
    "print(X_train.shape)\n",
    "print(y_train.shape)\n",
    "print(X_test.shape)\n",
    "print(y_test.shape)\n",
    "\n",
    "startTime = time.time()\n",
    "estimator = LinearSVC(random_state=42)\n",
    "selector = RFE(estimator, n_features_to_select= 76, step=0.5)\n",
    "selector = selector.fit(X_train, y_train)\n",
    "endTime = time.time()\n",
    "print('Time: ' + str(endTime - startTime))\n",
    "# testing the model\n",
    "y_pred = selector.predict(X_test)\n",
    "print(accuracy_score(y_test,y_pred))\n",
    "print(selector.score(X_test, y_test))\n",
    "print(confusion_matrix(y_test,y_pred))\n",
    "print(classification_report(y_test,y_pred))\n",
    "print(precision_recall_fscore_support(y_test, y_pred, average = 'weighted'))\n",
    "\n",
    "print(np.count_nonzero(selector.support_ == 1))\n"
   ]
  },
  {
   "cell_type": "code",
   "execution_count": 23,
   "metadata": {},
   "outputs": [
    {
     "name": "stdout",
     "output_type": "stream",
     "text": [
      "No Skill: ROC AUC=0.500\n",
      "Model: ROC AUC=0.989\n"
     ]
    },
    {
     "data": {
      "image/png": "[encoded data removed]",
      "text/plain": [
       "<Figure size 432x288 with 1 Axes>"
      ]
     },
     "metadata": {
      "needs_background": "light"
     },
     "output_type": "display_data"
    }
   ],
   "source": [
    "#ROC AUC calculations for the 76 features of RFE Model\n",
    "\n",
    "#changing the class to discrete numbers for ROC AUC calculation\n",
    "ss = 0\n",
    "pp = 0\n",
    "y_test_binary = y_test.copy()\n",
    "y_train_binary = y_train.copy()\n",
    "\n",
    "for i in range(0, y_test_binary.size):\n",
    "    if (y_test_binary[i] == \"Primary Tumor\"):\n",
    "        y_test_binary[i] = int(0)\n",
    "        pp = pp + 1\n",
    "    if (y_test_binary[i] == \"Solid Tissue Normal\"):\n",
    "        y_test_binary[i] = int(1)\n",
    "        ss = ss + 1\n",
    "y_test_binary=y_test_binary.astype('int')\n",
    "\n",
    "for i in range(0, y_train_binary.size):\n",
    "    if (y_train_binary[i] == \"Primary Tumor\"):\n",
    "        y_train_binary[i] = int(0)\n",
    "        pp = pp + 1\n",
    "    if (y_train_binary[i] == \"Solid Tissue Normal\"):\n",
    "        y_train_binary[i] = int(1)\n",
    "        ss = ss + 1\n",
    "y_train_binary=y_train_binary.astype('int')\n",
    "\n",
    "\n",
    "# generate a no skill prediction (majority class)\n",
    "ns_probs = [0 for _ in range(len(y_test_binary))]\n",
    "\n",
    "\n",
    "Y_train_binary = y_train_binary[:]\n",
    "Y_test_binary = y_test_binary[:]\n",
    "\n",
    "# predict probabilities\n",
    "svm = LinearSVC(random_state=42)\n",
    "model3 = RFE(svm, n_features_to_select= 76, step=0.5)\n",
    "model3 = model3.fit(X_train, y_train)\n",
    "lr_probs = model3.decision_function(X_test)\n",
    "\n",
    "# calculate scores\n",
    "ns_auc = roc_auc_score(Y_test_binary, ns_probs)\n",
    "lr_auc = roc_auc_score(Y_test_binary, lr_probs)\n",
    "# summarize scores: prints the ROC AUC for the model and the no skill classifier that only predicts 0 for all samples\n",
    "print('No Skill: ROC AUC=%.3f' % (ns_auc))\n",
    "print('Model: ROC AUC=%.3f' % (lr_auc))\n",
    "# calculate roc curves\n",
    "ns_fpr, ns_tpr, _ = roc_curve(Y_test_binary, ns_probs)\n",
    "lr_fpr, lr_tpr, _ = roc_curve(Y_test_binary, lr_probs)\n",
    "# plot the roc curve for the model\n",
    "plt.plot(ns_fpr, ns_tpr, linestyle='--', label='No Skill')\n",
    "plt.plot(lr_fpr, lr_tpr, marker='.', label='Model RFE')\n",
    "# axis labels\n",
    "plt.xlabel('False Positive Rate')\n",
    "plt.ylabel('True Positive Rate')\n",
    "# show the legend\n",
    "plt.legend()\n",
    "# show the plot\n",
    "plt.show()\n"
   ]
  },
  {
   "cell_type": "code",
   "execution_count": null,
   "metadata": {},
   "outputs": [],
   "source": []
  },
  {
   "cell_type": "code",
   "execution_count": 24,
   "metadata": {},
   "outputs": [],
   "source": [
    "#Create a list with indices of RFE Features\n",
    "RFE_features = np.where(selector.support_ == 1)\n",
    "RFE_features = np.asarray(RFE_features)\n",
    "rfe_f = []\n",
    "for i in RFE_features:\n",
    "  for s in i:\n",
    "    rfe_f.append(s)\n",
    "rfe_f = np.asarray(rfe_f)"
   ]
  },
  {
   "cell_type": "code",
   "execution_count": 25,
   "metadata": {},
   "outputs": [
    {
     "name": "stdout",
     "output_type": "stream",
     "text": [
      "number of similar features between RFE and MI:  12\n",
      "number of similar features between RFE and RF:  50\n",
      "number of similar features between RF and MI:  18\n",
      "number of similar features between RFE, RF and MI:  12\n"
     ]
    }
   ],
   "source": [
    "#Create list with common features among techniques\n",
    "similar_all = []\n",
    "similar_rfe_RF = []\n",
    "similar_rfe_MI = []\n",
    "\n",
    "count = 0\n",
    "for f in it:\n",
    "  for t in rfe_f:\n",
    "    if (f == t):\n",
    "      count = count + 1\n",
    "      similar_rfe_MI.append(f)\n",
    "print(\"number of similar features between RFE and MI: \", count)\n",
    "\n",
    "count = 0\n",
    "for f in important_f:\n",
    "  for t in rfe_f:\n",
    "    if (f == t):\n",
    "      count = count + 1\n",
    "      similar_rfe_RF.append(f)\n",
    "print(\"number of similar features between RFE and RF: \", count)\n",
    "\n",
    "count = 0\n",
    "for f in similarity:\n",
    "  for t in rfe_f:\n",
    "    if (f == t):\n",
    "      count = count + 1\n",
    "      similar_all.append(f)\n",
    "print(\"number of similar features between RF and MI: \", len(similarity))\n",
    "print(\"number of similar features between RFE, RF and MI: \", count)\n"
   ]
  },
  {
   "cell_type": "code",
   "execution_count": 26,
   "metadata": {},
   "outputs": [
    {
     "name": "stdout",
     "output_type": "stream",
     "text": [
      "Score: 0.9772727272727273\n",
      "Time: 4.592999458312988\n",
      "[[197   1]\n",
      " [  4  18]]\n",
      "                     precision    recall  f1-score   support\n",
      "\n",
      "      Primary Tumor       0.98      0.99      0.99       198\n",
      "Solid Tissue Normal       0.95      0.82      0.88        22\n",
      "\n",
      "           accuracy                           0.98       220\n",
      "          macro avg       0.96      0.91      0.93       220\n",
      "       weighted avg       0.98      0.98      0.98       220\n",
      "\n",
      "0.9772727272727273\n",
      "(0.976826394344069, 0.9772727272727273, 0.9765266825600586, None)\n"
     ]
    }
   ],
   "source": [
    "#A LinearSVC Model using the similar features between all of them\n",
    "startTime = time.time()\n",
    "X_train, X_test, y_train, y_test = train_test_split(X, y, test_size=0.40, random_state=42, stratify=y)\n",
    "sc = StandardScaler()\n",
    "X_train = sc.fit_transform(X_train)\n",
    "X_test = sc.transform(X_test)\n",
    "X_train = X_train[:, similar_all]\n",
    "X_test = X_test[:, similar_all]\n",
    "Y_train = y_train[:]\n",
    "Y_test = y_test[:]\n",
    "X_train = X_train.astype('float32')\n",
    "X_test = X_test.astype('float32')\n",
    "Y_train = Y_train[:]\n",
    "Y_test = Y_test[:]\n",
    "clf = LinearSVC(random_state=42)\n",
    "\n",
    "clf.fit(X_train, Y_train)\n",
    "\n",
    "endTime = time.time()\n",
    "print('Score: ' + str(clf.score(X_test, Y_test)))\n",
    "print('Time: ' + str(endTime - startTime))\n",
    "y_pred = clf.predict(X_test)\n",
    "print(confusion_matrix(y_test,y_pred))\n",
    "print(classification_report(y_test,y_pred))\n",
    "print(accuracy_score(y_test, y_pred))\n",
    "print(precision_recall_fscore_support(y_test, y_pred, average = 'weighted'))\n"
   ]
  },
  {
   "cell_type": "code",
   "execution_count": 28,
   "metadata": {},
   "outputs": [
    {
     "name": "stdout",
     "output_type": "stream",
     "text": [
      "No Skill: ROC AUC=0.500\n",
      "Model: ROC AUC=0.983\n"
     ]
    },
    {
     "data": {
      "image/png": "[encoded data removed]",
      "text/plain": [
       "<Figure size 432x288 with 1 Axes>"
      ]
     },
     "metadata": {
      "needs_background": "light"
     },
     "output_type": "display_data"
    }
   ],
   "source": [
    "#ROC AUC calculations for the 19 features of MI Model\n",
    "\n",
    "#changing the class to discrete numbers for ROC AUC calculation\n",
    "ss = 0\n",
    "pp = 0\n",
    "y_test_binary = y_test.copy()\n",
    "y_train_binary = y_train.copy()\n",
    "\n",
    "for i in range(0, y_test_binary.size):\n",
    "    if (y_test_binary[i] == \"Primary Tumor\"):\n",
    "        y_test_binary[i] = int(0)\n",
    "        pp = pp + 1\n",
    "    if (y_test_binary[i] == \"Solid Tissue Normal\"):\n",
    "        y_test_binary[i] = int(1)\n",
    "        ss = ss + 1\n",
    "y_test_binary=y_test_binary.astype('int')\n",
    "\n",
    "for i in range(0, y_train_binary.size):\n",
    "    if (y_train_binary[i] == \"Primary Tumor\"):\n",
    "        y_train_binary[i] = int(0)\n",
    "        pp = pp + 1\n",
    "    if (y_train_binary[i] == \"Solid Tissue Normal\"):\n",
    "        y_train_binary[i] = int(1)\n",
    "        ss = ss + 1\n",
    "y_train_binary=y_train_binary.astype('int')\n",
    "\n",
    "\n",
    "# generate a no skill prediction (majority class)\n",
    "ns_probs = [0 for _ in range(len(y_test_binary))]\n",
    "\n",
    "\n",
    "Y_train_binary = y_train_binary[:]\n",
    "Y_test_binary = y_test_binary[:]\n",
    "\n",
    "# predict probabilities\n",
    "model = LinearSVC(random_state=42)\n",
    "model.fit(X_train, Y_train_binary)\n",
    "lr_probs = model.decision_function(X_test)\n",
    "\n",
    "# calculate scores\n",
    "ns_auc = roc_auc_score(Y_test_binary, ns_probs)\n",
    "lr_auc = roc_auc_score(Y_test_binary, lr_probs)\n",
    "# summarize scores: prints the ROC AUC for the model and the no skill classifier that only predicts 0 for all samples\n",
    "print('No Skill: ROC AUC=%.3f' % (ns_auc))\n",
    "print('Model: ROC AUC=%.3f' % (lr_auc))\n",
    "# calculate roc curves\n",
    "ns_fpr, ns_tpr, _ = roc_curve(Y_test_binary, ns_probs)\n",
    "lr_fpr, lr_tpr, _ = roc_curve(Y_test_binary, lr_probs)\n",
    "# plot the roc curve for the model\n",
    "plt.plot(ns_fpr, ns_tpr, linestyle='--', label='No Skill')\n",
    "plt.plot(lr_fpr, lr_tpr, marker='.', label='Model all')\n",
    "# axis labels\n",
    "plt.xlabel('False Positive Rate')\n",
    "plt.ylabel('True Positive Rate')\n",
    "# show the legend\n",
    "plt.legend()\n",
    "# show the plot\n",
    "plt.show()\n"
   ]
  },
  {
   "cell_type": "code",
   "execution_count": null,
   "metadata": {},
   "outputs": [],
   "source": [
    "#Create a list with common features between at least two techniques\n",
    "common = []\n",
    "zzz = []\n",
    "zzz = similar_all + similar_rfe_MI + similar_rfe_RF + similarity\n",
    "for i in zzz:\n",
    "  if i in common:\n",
    "    pass\n",
    "  else:\n",
    "    common.append(i)\n",
    "print (\"Number of common features between at least two techniques: \",len(common))"
   ]
  },
  {
   "cell_type": "code",
   "execution_count": null,
   "metadata": {},
   "outputs": [],
   "source": [
    "#A LinearSVC Model using the common features between at least two techniques\n",
    "startTime = time.time()\n",
    "X_train, X_test, y_train, y_test = train_test_split(X, y, test_size=0.40, random_state=42, stratify=y)\n",
    "sc = StandardScaler()\n",
    "X_train = sc.fit_transform(X_train)\n",
    "X_test = sc.transform(X_test)\n",
    "\n",
    "X_train = X_train[:, common]\n",
    "X_test = X_test[:, common]\n",
    "Y_train = y_train[:]\n",
    "Y_test = y_test[:]\n",
    "X_train = X_train.astype('float32')\n",
    "X_test = X_test.astype('float32')\n",
    "Y_train = Y_train[:]\n",
    "Y_test = Y_test[:]\n",
    "clf = LinearSVC(random_state=42)\n",
    "\n",
    "clf.fit(X_train, Y_train)\n",
    "\n",
    "endTime = time.time()\n",
    "print('Score: ' + str(clf.score(X_test, Y_test)))\n",
    "print('Time: ' + str(endTime - startTime))\n",
    "y_pred = clf.predict(X_test)\n",
    "print(confusion_matrix(y_test,y_pred))\n",
    "print(classification_report(y_test,y_pred))\n",
    "print(accuracy_score(y_test, y_pred))\n",
    "print(precision_recall_fscore_support(y_test, y_pred, average = 'weighted'))\n"
   ]
  },
  {
   "cell_type": "code",
   "execution_count": null,
   "metadata": {},
   "outputs": [],
   "source": [
    "#Save in a Data Frame\n",
    "similar_all_names = []\n",
    "for i in similar_all:\n",
    "  similar_all_names.append(features_names[i])\n",
    "df_similar_All = pd.DataFrame(similar_all_names)\n",
    "df_similar_All.to_csv(r'Similar_All_Features.csv', index=False) "
   ]
  },
  {
   "cell_type": "code",
   "execution_count": null,
   "metadata": {},
   "outputs": [],
   "source": [
    "similar_rfe_MI_names = []\n",
    "for i in similar_rfe_MI:\n",
    "  similar_rfe_MI_names.append(features_names[i])\n",
    "df_similar_rfe_MI = pd.DataFrame(similar_rfe_MI_names)\n",
    "df_similar_rfe_MI.to_csv(r'Similar_RFE_MI_Features.csv', index=False) "
   ]
  },
  {
   "cell_type": "code",
   "execution_count": null,
   "metadata": {},
   "outputs": [],
   "source": [
    "similar_rfe_RF_names = []\n",
    "for i in similar_rfe_RF:\n",
    "  similar_rfe_RF_names.append(features_names[i])\n",
    "df_similar_rfe_RF = pd.DataFrame(similar_rfe_RF_names)\n",
    "df_similar_rfe_RF.to_csv(r'Similar_RFE_RF_Features.csv', index=False) "
   ]
  },
  {
   "cell_type": "code",
   "execution_count": null,
   "metadata": {},
   "outputs": [],
   "source": [
    "similar_MI_RF = []\n",
    "for i in similarity:\n",
    "  similar_MI_RF.append(features_names[i])\n",
    "df_similar_MI_RF = pd.DataFrame(similar_MI_RF)\n",
    "df_similar_MI_RF.to_csv(r'Similar_MI_RF_Features.csv', index=False) "
   ]
  },
  {
   "cell_type": "code",
   "execution_count": null,
   "metadata": {},
   "outputs": [],
   "source": [
    "rfe_f_names = []\n",
    "for i in rfe_f:\n",
    "  rfe_f_names.append(features_names[i])\n",
    "df_RFE = pd.DataFrame(rfe_f_names)\n",
    "df_RFE.to_csv(r'RFE_features.csv', index=False) "
   ]
  },
  {
   "cell_type": "code",
   "execution_count": null,
   "metadata": {},
   "outputs": [],
   "source": [
    "MI_f_names = []\n",
    "for i in it:\n",
    "  MI_f_names.append(features_names[i])\n",
    "df_MI = pd.DataFrame(MI_f_names)\n",
    "df_MI.to_csv(r'MI_features.csv', index=False) "
   ]
  },
  {
   "cell_type": "code",
   "execution_count": null,
   "metadata": {},
   "outputs": [],
   "source": [
    "RF_f_names = []\n",
    "for i in important_f:\n",
    "  RF_f_names.append(features_names[i])\n",
    "df_RF = pd.DataFrame(RF_f_names)\n",
    "df_RF.to_csv(r'RF_features.csv', index=False) "
   ]
  },
  {
   "cell_type": "code",
   "execution_count": null,
   "metadata": {},
   "outputs": [],
   "source": [
    "common_all = []\n",
    "for i in common:\n",
    "  common_all.append(features_names[i])\n",
    "df_common = pd.DataFrame(common_all)\n",
    "df_common.to_csv(r'common_all.csv', index=False) "
   ]
  },
  {
   "cell_type": "code",
   "execution_count": null,
   "metadata": {},
   "outputs": [],
   "source": []
  }
 ],
 "metadata": {
  "kernelspec": {
   "display_name": "Python 3",
   "language": "python",
   "name": "python3"
  },
  "language_info": {
   "codemirror_mode": {
    "name": "ipython",
    "version": 3
   },
   "file_extension": ".py",
   "mimetype": "text/x-python",
   "name": "python",
   "nbconvert_exporter": "python",
   "pygments_lexer": "ipython3",
   "version": "3.8.3"
  }
 },
 "nbformat": 4,
 "nbformat_minor": 4
}
